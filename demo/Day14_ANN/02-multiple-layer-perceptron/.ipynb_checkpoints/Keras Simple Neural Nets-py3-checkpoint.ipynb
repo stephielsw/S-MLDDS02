{
 "cells": [
  {
   "cell_type": "markdown",
   "metadata": {},
   "source": [
    "### Trains a simple deep NN on the MNIST dataset.\n",
    "\n",
    "Gets to 98.40% test accuracy after 20 epochs\n",
    "\n",
    "(there is *a lot* of margin for parameter tuning).\n",
    "\n",
    "2 seconds per epoch on a K520 GPU.\n"
   ]
  },
  {
   "cell_type": "code",
   "execution_count": 1,
   "metadata": {},
   "outputs": [
    {
     "name": "stderr",
     "output_type": "stream",
     "text": [
      "/home/iss-user/anaconda3/envs/iss-env-py3/lib/python3.6/site-packages/h5py/__init__.py:36: FutureWarning: Conversion of the second argument of issubdtype from `float` to `np.floating` is deprecated. In future, it will be treated as `np.float64 == np.dtype(float).type`.\n",
      "  from ._conv import register_converters as _register_converters\n",
      "Using TensorFlow backend.\n"
     ]
    }
   ],
   "source": [
    "from __future__ import print_function\n",
    "\n",
    "import keras\n",
    "from keras.datasets import mnist\n",
    "from keras.models import Sequential\n",
    "from keras.layers import Dense, Dropout\n",
    "from keras.optimizers import RMSprop\n"
   ]
  },
  {
   "cell_type": "code",
   "execution_count": 2,
   "metadata": {},
   "outputs": [
    {
     "name": "stdout",
     "output_type": "stream",
     "text": [
      "60000 train samples\n",
      "10000 test samples\n"
     ]
    }
   ],
   "source": [
    "\n",
    "batch_size = 128\n",
    "num_classes = 10\n",
    "epochs = 20\n",
    "\n",
    "# the data, split between train and test sets\n",
    "(x_train, y_train), (x_test, y_test) = mnist.load_data()\n",
    "\n",
    "x_train = x_train.reshape(60000, 784)\n",
    "x_test = x_test.reshape(10000, 784)\n",
    "x_train = x_train.astype('float32')\n",
    "x_test = x_test.astype('float32')\n",
    "x_train /= 255\n",
    "x_test /= 255\n",
    "print(x_train.shape[0], 'train samples')\n",
    "print(x_test.shape[0], 'test samples')\n"
   ]
  },
  {
   "cell_type": "code",
   "execution_count": 3,
   "metadata": {},
   "outputs": [],
   "source": [
    "# convert class vectors to binary class matrices\n",
    "y_train = keras.utils.to_categorical(y_train, num_classes)\n",
    "y_test = keras.utils.to_categorical(y_test, num_classes)\n"
   ]
  },
  {
   "cell_type": "markdown",
   "metadata": {},
   "source": [
    "### Keras Model 1"
   ]
  },
  {
   "cell_type": "markdown",
   "metadata": {},
   "source": [
    "Two hidden layers ANN"
   ]
  },
  {
   "cell_type": "code",
   "execution_count": 4,
   "metadata": {},
   "outputs": [
    {
     "name": "stdout",
     "output_type": "stream",
     "text": [
      "_________________________________________________________________\n",
      "Layer (type)                 Output Shape              Param #   \n",
      "=================================================================\n",
      "dense_1 (Dense)              (None, 100)               78500     \n",
      "_________________________________________________________________\n",
      "dense_2 (Dense)              (None, 50)                5050      \n",
      "_________________________________________________________________\n",
      "dense_3 (Dense)              (None, 10)                510       \n",
      "=================================================================\n",
      "Total params: 84,060\n",
      "Trainable params: 84,060\n",
      "Non-trainable params: 0\n",
      "_________________________________________________________________\n"
     ]
    }
   ],
   "source": [
    "model = Sequential()\n",
    "model.add(Dense(100, activation='sigmoid', input_shape=(784,)))\n",
    "# model.add(Dropout(0.2))\n",
    "model.add(Dense(50, activation='sigmoid'))\n",
    "# model.add(Dropout(0.2))\n",
    "model.add(Dense(num_classes, activation='softmax'))\n",
    "\n",
    "model.summary()"
   ]
  },
  {
   "cell_type": "code",
   "execution_count": 5,
   "metadata": {},
   "outputs": [
    {
     "name": "stdout",
     "output_type": "stream",
     "text": [
      "WARNING:tensorflow:From /home/iss-user/anaconda3/envs/iss-env-py3/lib/python3.6/site-packages/keras/backend/tensorflow_backend.py:2885: calling reduce_sum (from tensorflow.python.ops.math_ops) with keep_dims is deprecated and will be removed in a future version.\n",
      "Instructions for updating:\n",
      "keep_dims is deprecated, use keepdims instead\n",
      "WARNING:tensorflow:From /home/iss-user/anaconda3/envs/iss-env-py3/lib/python3.6/site-packages/keras/backend/tensorflow_backend.py:1349: calling reduce_mean (from tensorflow.python.ops.math_ops) with keep_dims is deprecated and will be removed in a future version.\n",
      "Instructions for updating:\n",
      "keep_dims is deprecated, use keepdims instead\n",
      "Train on 60000 samples, validate on 10000 samples\n",
      "Epoch 1/20\n",
      "60000/60000 [==============================] - 6s 100us/step - loss: 0.8134 - acc: 0.8155 - val_loss: 0.3271 - val_acc: 0.9139\n",
      "Epoch 2/20\n",
      "60000/60000 [==============================] - 4s 69us/step - loss: 0.2720 - acc: 0.9233 - val_loss: 0.2302 - val_acc: 0.9316\n",
      "Epoch 3/20\n",
      "60000/60000 [==============================] - 3s 54us/step - loss: 0.2045 - acc: 0.9400 - val_loss: 0.1829 - val_acc: 0.9448\n",
      "Epoch 4/20\n",
      "60000/60000 [==============================] - 4s 67us/step - loss: 0.1652 - acc: 0.9510 - val_loss: 0.1516 - val_acc: 0.9530\n",
      "Epoch 5/20\n",
      "60000/60000 [==============================] - 5s 78us/step - loss: 0.1379 - acc: 0.9588 - val_loss: 0.1322 - val_acc: 0.9605\n",
      "Epoch 6/20\n",
      "60000/60000 [==============================] - 3s 56us/step - loss: 0.1168 - acc: 0.9653 - val_loss: 0.1171 - val_acc: 0.9645\n",
      "Epoch 7/20\n",
      "60000/60000 [==============================] - 4s 74us/step - loss: 0.1017 - acc: 0.9702 - val_loss: 0.1086 - val_acc: 0.9673\n",
      "Epoch 8/20\n",
      "60000/60000 [==============================] - 4s 69us/step - loss: 0.0890 - acc: 0.9737 - val_loss: 0.0984 - val_acc: 0.9684\n",
      "Epoch 9/20\n",
      "60000/60000 [==============================] - 4s 62us/step - loss: 0.0796 - acc: 0.9766 - val_loss: 0.0941 - val_acc: 0.9705\n",
      "Epoch 10/20\n",
      "60000/60000 [==============================] - 4s 69us/step - loss: 0.0710 - acc: 0.9789 - val_loss: 0.0898 - val_acc: 0.9727\n",
      "Epoch 11/20\n",
      "60000/60000 [==============================] - 4s 62us/step - loss: 0.0641 - acc: 0.9816 - val_loss: 0.0845 - val_acc: 0.9733\n",
      "Epoch 12/20\n",
      "60000/60000 [==============================] - 4s 64us/step - loss: 0.0576 - acc: 0.9838 - val_loss: 0.0812 - val_acc: 0.9752\n",
      "Epoch 13/20\n",
      "60000/60000 [==============================] - 4s 70us/step - loss: 0.0529 - acc: 0.9849 - val_loss: 0.0785 - val_acc: 0.9760\n",
      "Epoch 14/20\n",
      "60000/60000 [==============================] - 3s 54us/step - loss: 0.0480 - acc: 0.9862 - val_loss: 0.0750 - val_acc: 0.9778\n",
      "Epoch 15/20\n",
      "60000/60000 [==============================] - 3s 58us/step - loss: 0.0441 - acc: 0.9875 - val_loss: 0.0766 - val_acc: 0.9776\n",
      "Epoch 16/20\n",
      "60000/60000 [==============================] - 4s 62us/step - loss: 0.0400 - acc: 0.9891 - val_loss: 0.0764 - val_acc: 0.9765\n",
      "Epoch 17/20\n",
      "60000/60000 [==============================] - 4s 69us/step - loss: 0.0368 - acc: 0.9901 - val_loss: 0.0745 - val_acc: 0.9779\n",
      "Epoch 18/20\n",
      "60000/60000 [==============================] - 4s 73us/step - loss: 0.0333 - acc: 0.9914 - val_loss: 0.0730 - val_acc: 0.9787\n",
      "Epoch 19/20\n",
      "60000/60000 [==============================] - 4s 65us/step - loss: 0.0304 - acc: 0.9918 - val_loss: 0.0731 - val_acc: 0.9777\n",
      "Epoch 20/20\n",
      "60000/60000 [==============================] - 4s 65us/step - loss: 0.0279 - acc: 0.9933 - val_loss: 0.0735 - val_acc: 0.9793\n",
      "Test loss: 0.0735178598701721\n",
      "Test accuracy: 0.9793\n"
     ]
    }
   ],
   "source": [
    "model.compile(loss='categorical_crossentropy',\n",
    "              optimizer=RMSprop(),\n",
    "              metrics=['accuracy'])\n",
    "\n",
    "history = model.fit(x_train, y_train,\n",
    "                    batch_size=batch_size,\n",
    "                    epochs=epochs,\n",
    "                    verbose=1,\n",
    "                    validation_data=(x_test, y_test))\n",
    "score = model.evaluate(x_test, y_test, verbose=0)\n",
    "print('Test loss:', score[0])\n",
    "print('Test accuracy:', score[1])"
   ]
  },
  {
   "cell_type": "markdown",
   "metadata": {},
   "source": [
    "### Keras Model 2"
   ]
  },
  {
   "cell_type": "markdown",
   "metadata": {},
   "source": [
    "Two hidden layers ANN with ReLU & Dropout"
   ]
  },
  {
   "cell_type": "code",
   "execution_count": 9,
   "metadata": {},
   "outputs": [
    {
     "name": "stdout",
     "output_type": "stream",
     "text": [
      "_________________________________________________________________\n",
      "Layer (type)                 Output Shape              Param #   \n",
      "=================================================================\n",
      "dense_10 (Dense)             (None, 512)               401920    \n",
      "_________________________________________________________________\n",
      "dropout_5 (Dropout)          (None, 512)               0         \n",
      "_________________________________________________________________\n",
      "dense_11 (Dense)             (None, 512)               262656    \n",
      "_________________________________________________________________\n",
      "dropout_6 (Dropout)          (None, 512)               0         \n",
      "_________________________________________________________________\n",
      "dense_12 (Dense)             (None, 10)                5130      \n",
      "=================================================================\n",
      "Total params: 669,706\n",
      "Trainable params: 669,706\n",
      "Non-trainable params: 0\n",
      "_________________________________________________________________\n"
     ]
    }
   ],
   "source": [
    "model2 = Sequential()\n",
    "model2.add(Dense(512, activation='relu', input_shape=(784,)))\n",
    "model2.add(Dropout(0.2))\n",
    "model2.add(Dense(512, activation='relu'))\n",
    "model2.add(Dropout(0.2))\n",
    "model2.add(Dense(num_classes, activation='softmax'))\n",
    "\n",
    "model2.summary()"
   ]
  },
  {
   "cell_type": "code",
   "execution_count": 10,
   "metadata": {},
   "outputs": [
    {
     "name": "stdout",
     "output_type": "stream",
     "text": [
      "Train on 60000 samples, validate on 10000 samples\n",
      "Epoch 1/20\n",
      "60000/60000 [==============================] - 81s 1ms/step - loss: 0.9047 - acc: 0.7748 - val_loss: 0.9307 - val_acc: 0.7687\n",
      "Epoch 2/20\n",
      "60000/60000 [==============================] - 80s 1ms/step - loss: 0.9020 - acc: 0.8361 - val_loss: 1.1450 - val_acc: 0.8569\n",
      "Epoch 3/20\n",
      "60000/60000 [==============================] - 78s 1ms/step - loss: 2.0479 - acc: 0.8166 - val_loss: 2.0873 - val_acc: 0.8385\n",
      "Epoch 4/20\n",
      "60000/60000 [==============================] - 80s 1ms/step - loss: 2.9778 - acc: 0.7924 - val_loss: 2.1297 - val_acc: 0.8541\n",
      "Epoch 5/20\n",
      "60000/60000 [==============================] - 77s 1ms/step - loss: 3.6478 - acc: 0.7616 - val_loss: 4.0835 - val_acc: 0.7376\n",
      "Epoch 6/20\n",
      "60000/60000 [==============================] - 71s 1ms/step - loss: 3.8481 - acc: 0.7536 - val_loss: 2.9172 - val_acc: 0.8123\n",
      "Epoch 7/20\n",
      "60000/60000 [==============================] - 52s 869us/step - loss: 4.2130 - acc: 0.7335 - val_loss: 4.0246 - val_acc: 0.7474\n",
      "Epoch 8/20\n",
      "60000/60000 [==============================] - 72s 1ms/step - loss: 4.5627 - acc: 0.7127 - val_loss: 4.8414 - val_acc: 0.6960\n",
      "Epoch 9/20\n",
      "60000/60000 [==============================] - 65s 1ms/step - loss: 4.8164 - acc: 0.6985 - val_loss: 4.5692 - val_acc: 0.7135\n",
      "Epoch 10/20\n",
      "60000/60000 [==============================] - 54s 899us/step - loss: 5.3868 - acc: 0.6635 - val_loss: 6.3622 - val_acc: 0.6027\n",
      "Epoch 11/20\n",
      "60000/60000 [==============================] - 34s 563us/step - loss: 5.6408 - acc: 0.6481 - val_loss: 5.2604 - val_acc: 0.6720\n",
      "Epoch 12/20\n",
      "60000/60000 [==============================] - 46s 770us/step - loss: 5.3165 - acc: 0.6682 - val_loss: 4.8360 - val_acc: 0.6986\n",
      "Epoch 13/20\n",
      "60000/60000 [==============================] - 22s 365us/step - loss: 5.5215 - acc: 0.6558 - val_loss: 5.2431 - val_acc: 0.6735\n",
      "Epoch 14/20\n",
      "60000/60000 [==============================] - 27s 447us/step - loss: 5.9506 - acc: 0.6297 - val_loss: 4.4146 - val_acc: 0.7256\n",
      "Epoch 15/20\n",
      "60000/60000 [==============================] - 21s 352us/step - loss: 5.9628 - acc: 0.6293 - val_loss: 4.9432 - val_acc: 0.6925\n",
      "Epoch 16/20\n",
      "60000/60000 [==============================] - 21s 356us/step - loss: 5.8835 - acc: 0.6341 - val_loss: 4.6935 - val_acc: 0.7082\n",
      "Epoch 17/20\n",
      "60000/60000 [==============================] - 22s 374us/step - loss: 5.7800 - acc: 0.6404 - val_loss: 4.7022 - val_acc: 0.7074\n",
      "Epoch 18/20\n",
      "60000/60000 [==============================] - 22s 369us/step - loss: 5.9030 - acc: 0.6330 - val_loss: 4.9386 - val_acc: 0.6931\n",
      "Epoch 19/20\n",
      "60000/60000 [==============================] - 31s 512us/step - loss: 5.7547 - acc: 0.6422 - val_loss: 4.3386 - val_acc: 0.7305\n",
      "Epoch 20/20\n",
      "60000/60000 [==============================] - 23s 389us/step - loss: 6.0109 - acc: 0.6265 - val_loss: 6.2242 - val_acc: 0.6134\n",
      "Test loss: 6.224191799163818\n",
      "Test accuracy: 0.6134\n"
     ]
    }
   ],
   "source": [
    "model2.compile(loss='categorical_crossentropy',\n",
    "              optimizer=RMSprop(),\n",
    "              metrics=['accuracy'])\n",
    "\n",
    "history = model2.fit(x_train, y_train,\n",
    "                    batch_size=batch_size,\n",
    "                    epochs=epochs,\n",
    "                    verbose=1,\n",
    "                    validation_data=(x_test, y_test))\n",
    "score = model2.evaluate(x_test, y_test, verbose=0)\n",
    "print('Test loss:', score[0])\n",
    "print('Test accuracy:', score[1])"
   ]
  },
  {
   "cell_type": "markdown",
   "metadata": {},
   "source": [
    "---"
   ]
  }
 ],
 "metadata": {
  "kernelspec": {
   "display_name": "Python 3",
   "language": "python",
   "name": "python3"
  },
  "language_info": {
   "codemirror_mode": {
    "name": "ipython",
    "version": 3
   },
   "file_extension": ".py",
   "mimetype": "text/x-python",
   "name": "python",
   "nbconvert_exporter": "python",
   "pygments_lexer": "ipython3",
   "version": "3.6.4"
  }
 },
 "nbformat": 4,
 "nbformat_minor": 2
}
