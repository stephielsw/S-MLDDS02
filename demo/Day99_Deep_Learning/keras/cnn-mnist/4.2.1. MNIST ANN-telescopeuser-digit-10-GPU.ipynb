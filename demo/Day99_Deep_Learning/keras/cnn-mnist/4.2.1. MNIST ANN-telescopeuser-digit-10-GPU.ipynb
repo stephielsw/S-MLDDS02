{
 "cells": [
  {
   "cell_type": "markdown",
   "metadata": {
    "slideshow": {
     "slide_type": "slide"
    }
   },
   "source": [
    "# Artificial Neural Network for MNIST\n",
    "\n",
    "### TelescopeUser: 10-class classification problem"
   ]
  },
  {
   "cell_type": "markdown",
   "metadata": {},
   "source": [
    "<img src=\"imgs/mnist_plot.png\"\n",
    "     style=\"float: left; margin-right: 1px;\" width=\"500\" height=\"400\" />"
   ]
  },
  {
   "cell_type": "markdown",
   "metadata": {
    "slideshow": {
     "slide_type": "subslide"
    }
   },
   "source": [
    "Deep Learning models can take quite a bit of time to run, particularly if GPU isn't used. \n",
    "\n",
    "In the interest of time, you could sample a subset of observations (e.g. $1000$) that are a particular number of your choice (e.g. $6$) and $1000$ observations that aren't that particular number (i.e. $\\neq 6$). \n",
    "\n",
    "We will build a model using that and see how it performs on the test dataset"
   ]
  },
  {
   "cell_type": "code",
   "execution_count": 1,
   "metadata": {
    "slideshow": {
     "slide_type": "subslide"
    }
   },
   "outputs": [
    {
     "name": "stderr",
     "output_type": "stream",
     "text": [
      "/home/iss-user/anaconda3/envs/iss-env-py3/lib/python3.6/site-packages/h5py/__init__.py:36: FutureWarning: Conversion of the second argument of issubdtype from `float` to `np.floating` is deprecated. In future, it will be treated as `np.float64 == np.dtype(float).type`.\n",
      "  from ._conv import register_converters as _register_converters\n",
      "Using TensorFlow backend.\n"
     ]
    }
   ],
   "source": [
    "#Import the required libraries\n",
    "import numpy as np\n",
    "np.random.seed(1338)\n",
    "\n",
    "from keras.datasets import mnist"
   ]
  },
  {
   "cell_type": "code",
   "execution_count": 2,
   "metadata": {
    "slideshow": {
     "slide_type": "fragment"
    }
   },
   "outputs": [],
   "source": [
    "from keras.models import Sequential\n",
    "from keras.layers.core import Dense, Dropout, Activation, Flatten"
   ]
  },
  {
   "cell_type": "code",
   "execution_count": 3,
   "metadata": {
    "slideshow": {
     "slide_type": "fragment"
    }
   },
   "outputs": [],
   "source": [
    "from keras.layers.convolutional import Conv2D\n",
    "from keras.layers.pooling import MaxPooling2D"
   ]
  },
  {
   "cell_type": "code",
   "execution_count": 4,
   "metadata": {
    "slideshow": {
     "slide_type": "fragment"
    }
   },
   "outputs": [],
   "source": [
    "from keras.utils import np_utils\n",
    "from keras.optimizers import SGD"
   ]
  },
  {
   "cell_type": "markdown",
   "metadata": {
    "slideshow": {
     "slide_type": "subslide"
    }
   },
   "source": [
    "## Loading Data"
   ]
  },
  {
   "cell_type": "code",
   "execution_count": 5,
   "metadata": {
    "slideshow": {
     "slide_type": "-"
    }
   },
   "outputs": [],
   "source": [
    "# Load the training and testing data\n",
    "(X_train, Y_train), (X_test, Y_test) = mnist.load_data()\n",
    "# Display purpose:\n",
    "X_train_orig = X_train\n",
    "X_test_orig = X_test"
   ]
  },
  {
   "cell_type": "markdown",
   "metadata": {
    "slideshow": {
     "slide_type": "subslide"
    }
   },
   "source": [
    "## Data Preparation"
   ]
  },
  {
   "cell_type": "markdown",
   "metadata": {},
   "source": [
    "### Very Important: \n",
    "When dealing with images & convolutions, it is paramount to handle `image_data_format` properly"
   ]
  },
  {
   "cell_type": "code",
   "execution_count": 6,
   "metadata": {},
   "outputs": [],
   "source": [
    "from keras import backend as K"
   ]
  },
  {
   "cell_type": "code",
   "execution_count": 7,
   "metadata": {},
   "outputs": [],
   "source": [
    "img_rows, img_cols = 28, 28\n",
    "\n",
    "if K.image_data_format() == 'channels_first':\n",
    "    shape_ord = (1, img_rows, img_cols)\n",
    "else:  # channel_last\n",
    "    shape_ord = (img_rows, img_cols, 1)"
   ]
  },
  {
   "cell_type": "markdown",
   "metadata": {},
   "source": [
    "#### Preprocess and Normalise Data"
   ]
  },
  {
   "cell_type": "code",
   "execution_count": 8,
   "metadata": {
    "slideshow": {
     "slide_type": "-"
    }
   },
   "outputs": [],
   "source": [
    "X_train = X_train.reshape((X_train.shape[0],) + shape_ord)\n",
    "X_test = X_test.reshape((X_test.shape[0],) + shape_ord)\n",
    "\n",
    "X_train = X_train.astype('float32')\n",
    "X_test = X_test.astype('float32')\n",
    "\n",
    "X_train /= 255\n",
    "X_test /= 255"
   ]
  },
  {
   "cell_type": "markdown",
   "metadata": {
    "slideshow": {
     "slide_type": "subslide"
    }
   },
   "source": [
    "### Let's look at some images"
   ]
  },
  {
   "cell_type": "code",
   "execution_count": 9,
   "metadata": {
    "slideshow": {
     "slide_type": "skip"
    }
   },
   "outputs": [],
   "source": [
    "import matplotlib.pyplot as plt\n",
    "%matplotlib inline"
   ]
  },
  {
   "cell_type": "code",
   "execution_count": 10,
   "metadata": {},
   "outputs": [
    {
     "name": "stdout",
     "output_type": "stream",
     "text": [
      "[5 0 4 1 9 2 1 3 1 4]\n"
     ]
    },
    {
     "data": {
      "image/png": "[encoded data removed]",
      "text/plain": [
       "<matplotlib.figure.Figure at 0x7f28513dfbe0>"
      ]
     },
     "metadata": {},
     "output_type": "display_data"
    }
   ],
   "source": [
    "print(Y_train[0:10])\n",
    "\n",
    "slice = 10\n",
    "plt.figure(figsize=(16,8))\n",
    "for i in range(slice):\n",
    "    plt.subplot(1, slice, i+1)\n",
    "    plt.imshow(X_train_orig[i], interpolation='nearest')\n",
    "    plt.axis('off')"
   ]
  },
  {
   "cell_type": "code",
   "execution_count": 11,
   "metadata": {},
   "outputs": [
    {
     "name": "stdout",
     "output_type": "stream",
     "text": [
      "[7 2 1 0 4 1 4 9 5 9]\n"
     ]
    },
    {
     "data": {
      "image/png": "[encoded data removed]",
      "text/plain": [
       "<matplotlib.figure.Figure at 0x7f284f344668>"
      ]
     },
     "metadata": {},
     "output_type": "display_data"
    }
   ],
   "source": [
    "print(Y_test[0:10])\n",
    "\n",
    "slice = 10\n",
    "plt.figure(figsize=(16,8))\n",
    "for i in range(slice):\n",
    "    plt.subplot(1, slice, i+1)\n",
    "    plt.imshow(X_test_orig[i], interpolation='nearest')\n",
    "    plt.axis('off')"
   ]
  },
  {
   "cell_type": "markdown",
   "metadata": {},
   "source": [
    "### One-hot Encoding for label digits 0 ~ 9"
   ]
  },
  {
   "cell_type": "code",
   "execution_count": 12,
   "metadata": {
    "slideshow": {
     "slide_type": "subslide"
    }
   },
   "outputs": [
    {
     "name": "stdout",
     "output_type": "stream",
     "text": [
      "(60000, 28, 28, 1) (60000,) (10000, 28, 28, 1) (10000,)\n"
     ]
    }
   ],
   "source": [
    "print(X_train.shape, Y_train.shape, X_test.shape, Y_test.shape)"
   ]
  },
  {
   "cell_type": "code",
   "execution_count": 13,
   "metadata": {
    "slideshow": {
     "slide_type": "fragment"
    }
   },
   "outputs": [],
   "source": [
    "# Converting the classes to its binary categorical form\n",
    "nb_classes = 10\n",
    "Y_train = np_utils.to_categorical(Y_train, nb_classes)\n",
    "Y_test = np_utils.to_categorical(Y_test, nb_classes)"
   ]
  },
  {
   "cell_type": "code",
   "execution_count": 14,
   "metadata": {
    "slideshow": {
     "slide_type": "subslide"
    }
   },
   "outputs": [
    {
     "name": "stdout",
     "output_type": "stream",
     "text": [
      "(60000, 28, 28, 1) (60000, 10) (10000, 28, 28, 1) (10000, 10)\n"
     ]
    }
   ],
   "source": [
    "print(X_train.shape, Y_train.shape, X_test.shape, Y_test.shape)"
   ]
  },
  {
   "cell_type": "code",
   "execution_count": 15,
   "metadata": {
    "scrolled": true
   },
   "outputs": [
    {
     "data": {
      "text/plain": [
       "array([[0., 0., 0., 0., 0., 1., 0., 0., 0., 0.],\n",
       "       [1., 0., 0., 0., 0., 0., 0., 0., 0., 0.],\n",
       "       [0., 0., 0., 0., 1., 0., 0., 0., 0., 0.],\n",
       "       [0., 1., 0., 0., 0., 0., 0., 0., 0., 0.],\n",
       "       [0., 0., 0., 0., 0., 0., 0., 0., 0., 1.],\n",
       "       [0., 0., 1., 0., 0., 0., 0., 0., 0., 0.],\n",
       "       [0., 1., 0., 0., 0., 0., 0., 0., 0., 0.],\n",
       "       [0., 0., 0., 1., 0., 0., 0., 0., 0., 0.],\n",
       "       [0., 1., 0., 0., 0., 0., 0., 0., 0., 0.],\n",
       "       [0., 0., 0., 0., 1., 0., 0., 0., 0., 0.]])"
      ]
     },
     "execution_count": 15,
     "metadata": {},
     "output_type": "execute_result"
    }
   ],
   "source": [
    "Y_train[0:10]"
   ]
  },
  {
   "cell_type": "code",
   "execution_count": 16,
   "metadata": {
    "scrolled": true
   },
   "outputs": [
    {
     "data": {
      "text/plain": [
       "array([[0., 0., 0., 0., 0., 0., 0., 1., 0., 0.],\n",
       "       [0., 0., 1., 0., 0., 0., 0., 0., 0., 0.],\n",
       "       [0., 1., 0., 0., 0., 0., 0., 0., 0., 0.],\n",
       "       [1., 0., 0., 0., 0., 0., 0., 0., 0., 0.],\n",
       "       [0., 0., 0., 0., 1., 0., 0., 0., 0., 0.],\n",
       "       [0., 1., 0., 0., 0., 0., 0., 0., 0., 0.],\n",
       "       [0., 0., 0., 0., 1., 0., 0., 0., 0., 0.],\n",
       "       [0., 0., 0., 0., 0., 0., 0., 0., 0., 1.],\n",
       "       [0., 0., 0., 0., 0., 1., 0., 0., 0., 0.],\n",
       "       [0., 0., 0., 0., 0., 0., 0., 0., 0., 1.]])"
      ]
     },
     "execution_count": 16,
     "metadata": {},
     "output_type": "execute_result"
    }
   ],
   "source": [
    "Y_test[0:10]"
   ]
  },
  {
   "cell_type": "markdown",
   "metadata": {
    "slideshow": {
     "slide_type": "slide"
    }
   },
   "source": [
    "# A simple MLP ANN"
   ]
  },
  {
   "cell_type": "code",
   "execution_count": 17,
   "metadata": {
    "slideshow": {
     "slide_type": "subslide"
    }
   },
   "outputs": [],
   "source": [
    "nb_epoch = 100  # ANN\n",
    "batch_size = 64\n",
    "sgd = SGD(lr=0.1, decay=1e-6, momentum=0.9, nesterov=True)"
   ]
  },
  {
   "cell_type": "markdown",
   "metadata": {
    "slideshow": {
     "slide_type": "subslide"
    }
   },
   "source": [
    "#### Step 1: Model Definition"
   ]
  },
  {
   "cell_type": "code",
   "execution_count": 18,
   "metadata": {},
   "outputs": [
    {
     "data": {
      "text/plain": [
       "(28, 28, 1)"
      ]
     },
     "execution_count": 18,
     "metadata": {},
     "output_type": "execute_result"
    }
   ],
   "source": [
    "# image data shape: 28 pixels x 28 pixels x 1 grey scale\n",
    "shape_ord"
   ]
  },
  {
   "cell_type": "code",
   "execution_count": 19,
   "metadata": {},
   "outputs": [
    {
     "name": "stdout",
     "output_type": "stream",
     "text": [
      "WARNING:tensorflow:From /home/iss-user/anaconda3/envs/iss-env-py3/lib/python3.6/site-packages/keras/backend/tensorflow_backend.py:1264: calling reduce_prod (from tensorflow.python.ops.math_ops) with keep_dims is deprecated and will be removed in a future version.\n",
      "Instructions for updating:\n",
      "keep_dims is deprecated, use keepdims instead\n",
      "_________________________________________________________________\n",
      "Layer (type)                 Output Shape              Param #   \n",
      "=================================================================\n",
      "flatten_1 (Flatten)          (None, 784)               0         \n",
      "_________________________________________________________________\n",
      "dense_1 (Dense)              (None, 100)               78500     \n",
      "_________________________________________________________________\n",
      "activation_1 (Activation)    (None, 100)               0         \n",
      "_________________________________________________________________\n",
      "dense_2 (Dense)              (None, 10)                1010      \n",
      "_________________________________________________________________\n",
      "activation_2 (Activation)    (None, 10)                0         \n",
      "=================================================================\n",
      "Total params: 79,510\n",
      "Trainable params: 79,510\n",
      "Non-trainable params: 0\n",
      "_________________________________________________________________\n"
     ]
    }
   ],
   "source": [
    "model = Sequential()\n",
    "model.add(Flatten(input_shape=shape_ord)) # shape_ord = (28, 28, 1)\n",
    "model.add(Dense(100)) # model.add(Dense(100, activation='sigmoid', input_shape=(784,)))\n",
    "model.add(Activation('sigmoid'))\n",
    "# model.add(Dense(50))\n",
    "# model.add(Activation('sigmoid'))\n",
    "model.add(Dense(10))\n",
    "model.add(Activation('softmax'))\n",
    "\n",
    "model.summary()"
   ]
  },
  {
   "cell_type": "markdown",
   "metadata": {
    "slideshow": {
     "slide_type": "subslide"
    }
   },
   "source": [
    "#### Step 2: Compile"
   ]
  },
  {
   "cell_type": "code",
   "execution_count": 20,
   "metadata": {},
   "outputs": [
    {
     "name": "stdout",
     "output_type": "stream",
     "text": [
      "WARNING:tensorflow:From /home/iss-user/anaconda3/envs/iss-env-py3/lib/python3.6/site-packages/keras/backend/tensorflow_backend.py:2885: calling reduce_sum (from tensorflow.python.ops.math_ops) with keep_dims is deprecated and will be removed in a future version.\n",
      "Instructions for updating:\n",
      "keep_dims is deprecated, use keepdims instead\n",
      "WARNING:tensorflow:From /home/iss-user/anaconda3/envs/iss-env-py3/lib/python3.6/site-packages/keras/backend/tensorflow_backend.py:1349: calling reduce_mean (from tensorflow.python.ops.math_ops) with keep_dims is deprecated and will be removed in a future version.\n",
      "Instructions for updating:\n",
      "keep_dims is deprecated, use keepdims instead\n"
     ]
    }
   ],
   "source": [
    "model.compile(loss='categorical_crossentropy',\n",
    "              optimizer=sgd,\n",
    "              metrics=['accuracy'])"
   ]
  },
  {
   "cell_type": "markdown",
   "metadata": {
    "slideshow": {
     "slide_type": "subslide"
    }
   },
   "source": [
    "#### Step 3: Fit"
   ]
  },
  {
   "cell_type": "code",
   "execution_count": 21,
   "metadata": {
    "scrolled": false
   },
   "outputs": [
    {
     "name": "stdout",
     "output_type": "stream",
     "text": [
      "Train on 60000 samples, validate on 10000 samples\n",
      "Epoch 1/100\n",
      "60000/60000 [==============================] - 16s 267us/step - loss: 0.3385 - acc: 0.9007 - val_loss: 0.2164 - val_acc: 0.9365\n",
      "Epoch 2/100\n",
      "60000/60000 [==============================] - 16s 267us/step - loss: 0.1705 - acc: 0.9501 - val_loss: 0.1493 - val_acc: 0.9571\n",
      "Epoch 3/100\n",
      "60000/60000 [==============================] - 16s 271us/step - loss: 0.1253 - acc: 0.9629 - val_loss: 0.1220 - val_acc: 0.9631\n",
      "Epoch 4/100\n",
      "60000/60000 [==============================] - 16s 268us/step - loss: 0.0991 - acc: 0.9703 - val_loss: 0.1024 - val_acc: 0.9687\n",
      "Epoch 5/100\n",
      "60000/60000 [==============================] - 16s 275us/step - loss: 0.0818 - acc: 0.9755 - val_loss: 0.0904 - val_acc: 0.9722\n",
      "Epoch 6/100\n",
      "60000/60000 [==============================] - 17s 282us/step - loss: 0.0690 - acc: 0.9798 - val_loss: 0.0889 - val_acc: 0.9723\n",
      "Epoch 7/100\n",
      "60000/60000 [==============================] - 17s 277us/step - loss: 0.0592 - acc: 0.9824 - val_loss: 0.0834 - val_acc: 0.9755\n",
      "Epoch 8/100\n",
      "60000/60000 [==============================] - 16s 274us/step - loss: 0.0506 - acc: 0.9852 - val_loss: 0.0789 - val_acc: 0.9756\n",
      "Epoch 9/100\n",
      "60000/60000 [==============================] - 16s 263us/step - loss: 0.0439 - acc: 0.9875 - val_loss: 0.0816 - val_acc: 0.9749\n",
      "Epoch 10/100\n",
      "60000/60000 [==============================] - 7s 114us/step - loss: 0.0386 - acc: 0.9890 - val_loss: 0.0782 - val_acc: 0.9765\n",
      "Epoch 11/100\n",
      "60000/60000 [==============================] - 5s 83us/step - loss: 0.0340 - acc: 0.9906 - val_loss: 0.0732 - val_acc: 0.9780\n",
      "Epoch 12/100\n",
      "60000/60000 [==============================] - 6s 95us/step - loss: 0.0300 - acc: 0.9925 - val_loss: 0.0709 - val_acc: 0.9789\n",
      "Epoch 13/100\n",
      "60000/60000 [==============================] - 5s 75us/step - loss: 0.0268 - acc: 0.9932 - val_loss: 0.0721 - val_acc: 0.9778\n",
      "Epoch 14/100\n",
      "60000/60000 [==============================] - 5s 79us/step - loss: 0.0234 - acc: 0.9947 - val_loss: 0.0705 - val_acc: 0.9791\n",
      "Epoch 15/100\n",
      "60000/60000 [==============================] - 5s 86us/step - loss: 0.0209 - acc: 0.9952 - val_loss: 0.0712 - val_acc: 0.9794\n",
      "Epoch 16/100\n",
      "60000/60000 [==============================] - 4s 75us/step - loss: 0.0184 - acc: 0.9963 - val_loss: 0.0741 - val_acc: 0.9780\n",
      "Epoch 17/100\n",
      "60000/60000 [==============================] - 6s 98us/step - loss: 0.0164 - acc: 0.9970 - val_loss: 0.0690 - val_acc: 0.9785\n",
      "Epoch 18/100\n",
      "60000/60000 [==============================] - 5s 82us/step - loss: 0.0147 - acc: 0.9977 - val_loss: 0.0700 - val_acc: 0.9796\n",
      "Epoch 19/100\n",
      "60000/60000 [==============================] - 5s 79us/step - loss: 0.0134 - acc: 0.9979 - val_loss: 0.0694 - val_acc: 0.9790\n",
      "Epoch 20/100\n",
      "60000/60000 [==============================] - 5s 86us/step - loss: 0.0120 - acc: 0.9985 - val_loss: 0.0687 - val_acc: 0.9798\n",
      "Epoch 21/100\n",
      "60000/60000 [==============================] - 5s 89us/step - loss: 0.0108 - acc: 0.9989 - val_loss: 0.0719 - val_acc: 0.9790\n",
      "Epoch 22/100\n",
      "60000/60000 [==============================] - 4s 74us/step - loss: 0.0098 - acc: 0.9990 - val_loss: 0.0686 - val_acc: 0.9794\n",
      "Epoch 23/100\n",
      "60000/60000 [==============================] - 5s 88us/step - loss: 0.0088 - acc: 0.9993 - val_loss: 0.0692 - val_acc: 0.9792\n",
      "Epoch 24/100\n",
      "60000/60000 [==============================] - 5s 77us/step - loss: 0.0082 - acc: 0.9995 - val_loss: 0.0691 - val_acc: 0.9797\n",
      "Epoch 25/100\n",
      "60000/60000 [==============================] - 4s 63us/step - loss: 0.0074 - acc: 0.9995 - val_loss: 0.0719 - val_acc: 0.9783\n",
      "Epoch 26/100\n",
      "60000/60000 [==============================] - 7s 123us/step - loss: 0.0069 - acc: 0.9996 - val_loss: 0.0712 - val_acc: 0.9788\n",
      "Epoch 27/100\n",
      "60000/60000 [==============================] - 5s 92us/step - loss: 0.0064 - acc: 0.9997 - val_loss: 0.0698 - val_acc: 0.9797\n",
      "Epoch 28/100\n",
      "60000/60000 [==============================] - 4s 63us/step - loss: 0.0060 - acc: 0.9997 - val_loss: 0.0703 - val_acc: 0.9784\n",
      "Epoch 29/100\n",
      "60000/60000 [==============================] - 4s 67us/step - loss: 0.0056 - acc: 0.9998 - val_loss: 0.0726 - val_acc: 0.9794\n",
      "Epoch 30/100\n",
      "60000/60000 [==============================] - 4s 59us/step - loss: 0.0052 - acc: 0.9998 - val_loss: 0.0727 - val_acc: 0.9790\n",
      "Epoch 31/100\n",
      "60000/60000 [==============================] - 4s 63us/step - loss: 0.0048 - acc: 0.9999 - val_loss: 0.0720 - val_acc: 0.9792\n",
      "Epoch 32/100\n",
      "60000/60000 [==============================] - 4s 70us/step - loss: 0.0046 - acc: 0.9998 - val_loss: 0.0723 - val_acc: 0.9787\n",
      "Epoch 33/100\n",
      "60000/60000 [==============================] - 5s 82us/step - loss: 0.0043 - acc: 0.9999 - val_loss: 0.0711 - val_acc: 0.9798\n",
      "Epoch 34/100\n",
      "60000/60000 [==============================] - 5s 80us/step - loss: 0.0041 - acc: 0.9998 - val_loss: 0.0719 - val_acc: 0.9796\n",
      "Epoch 35/100\n",
      "60000/60000 [==============================] - 4s 64us/step - loss: 0.0039 - acc: 0.9999 - val_loss: 0.0725 - val_acc: 0.9786\n",
      "Epoch 36/100\n",
      "60000/60000 [==============================] - 4s 63us/step - loss: 0.0037 - acc: 0.9999 - val_loss: 0.0731 - val_acc: 0.9796\n",
      "Epoch 37/100\n",
      "60000/60000 [==============================] - 4s 68us/step - loss: 0.0035 - acc: 0.9999 - val_loss: 0.0731 - val_acc: 0.9788\n",
      "Epoch 38/100\n",
      "60000/60000 [==============================] - 4s 62us/step - loss: 0.0033 - acc: 0.9999 - val_loss: 0.0729 - val_acc: 0.9794\n",
      "Epoch 39/100\n",
      "60000/60000 [==============================] - 5s 90us/step - loss: 0.0032 - acc: 1.0000 - val_loss: 0.0731 - val_acc: 0.9794\n",
      "Epoch 40/100\n",
      "60000/60000 [==============================] - 4s 59us/step - loss: 0.0030 - acc: 1.0000 - val_loss: 0.0731 - val_acc: 0.9797\n",
      "Epoch 41/100\n",
      "60000/60000 [==============================] - 4s 68us/step - loss: 0.0029 - acc: 1.0000 - val_loss: 0.0736 - val_acc: 0.9783\n",
      "Epoch 42/100\n",
      "60000/60000 [==============================] - 5s 81us/step - loss: 0.0028 - acc: 1.0000 - val_loss: 0.0748 - val_acc: 0.9793\n",
      "Epoch 43/100\n",
      "60000/60000 [==============================] - 5s 79us/step - loss: 0.0027 - acc: 1.0000 - val_loss: 0.0745 - val_acc: 0.9793\n",
      "Epoch 44/100\n",
      "60000/60000 [==============================] - 5s 78us/step - loss: 0.0026 - acc: 1.0000 - val_loss: 0.0755 - val_acc: 0.9793\n",
      "Epoch 45/100\n",
      "60000/60000 [==============================] - 5s 78us/step - loss: 0.0025 - acc: 1.0000 - val_loss: 0.0753 - val_acc: 0.9788\n",
      "Epoch 46/100\n",
      "60000/60000 [==============================] - 6s 93us/step - loss: 0.0024 - acc: 1.0000 - val_loss: 0.0752 - val_acc: 0.9793\n",
      "Epoch 47/100\n",
      "60000/60000 [==============================] - 5s 84us/step - loss: 0.0023 - acc: 1.0000 - val_loss: 0.0748 - val_acc: 0.9793\n",
      "Epoch 48/100\n",
      "60000/60000 [==============================] - 9s 152us/step - loss: 0.0023 - acc: 1.0000 - val_loss: 0.0754 - val_acc: 0.9790\n",
      "Epoch 49/100\n",
      "60000/60000 [==============================] - 16s 273us/step - loss: 0.0022 - acc: 1.0000 - val_loss: 0.0746 - val_acc: 0.9790\n",
      "Epoch 50/100\n",
      "60000/60000 [==============================] - 17s 275us/step - loss: 0.0021 - acc: 1.0000 - val_loss: 0.0754 - val_acc: 0.9791\n",
      "Epoch 51/100\n",
      "60000/60000 [==============================] - 17s 279us/step - loss: 0.0020 - acc: 1.0000 - val_loss: 0.0762 - val_acc: 0.9782\n",
      "Epoch 52/100\n",
      "60000/60000 [==============================] - 16s 275us/step - loss: 0.0020 - acc: 1.0000 - val_loss: 0.0760 - val_acc: 0.9787\n",
      "Epoch 53/100\n",
      "60000/60000 [==============================] - 17s 279us/step - loss: 0.0019 - acc: 1.0000 - val_loss: 0.0765 - val_acc: 0.9794\n",
      "Epoch 54/100\n",
      "60000/60000 [==============================] - 16s 272us/step - loss: 0.0019 - acc: 1.0000 - val_loss: 0.0767 - val_acc: 0.9792\n",
      "Epoch 55/100\n",
      "60000/60000 [==============================] - 16s 268us/step - loss: 0.0018 - acc: 1.0000 - val_loss: 0.0769 - val_acc: 0.9790\n",
      "Epoch 56/100\n",
      "60000/60000 [==============================] - 16s 272us/step - loss: 0.0018 - acc: 1.0000 - val_loss: 0.0758 - val_acc: 0.9790\n",
      "Epoch 57/100\n",
      "60000/60000 [==============================] - 16s 265us/step - loss: 0.0017 - acc: 1.0000 - val_loss: 0.0763 - val_acc: 0.9793\n",
      "Epoch 58/100\n",
      "60000/60000 [==============================] - 16s 271us/step - loss: 0.0017 - acc: 1.0000 - val_loss: 0.0776 - val_acc: 0.9790\n",
      "Epoch 59/100\n"
     ]
    },
    {
     "name": "stdout",
     "output_type": "stream",
     "text": [
      "60000/60000 [==============================] - 16s 264us/step - loss: 0.0016 - acc: 1.0000 - val_loss: 0.0779 - val_acc: 0.9791\n",
      "Epoch 60/100\n",
      "60000/60000 [==============================] - 16s 263us/step - loss: 0.0016 - acc: 1.0000 - val_loss: 0.0774 - val_acc: 0.9786\n",
      "Epoch 61/100\n",
      "60000/60000 [==============================] - 16s 265us/step - loss: 0.0016 - acc: 1.0000 - val_loss: 0.0775 - val_acc: 0.9791\n",
      "Epoch 62/100\n",
      "60000/60000 [==============================] - 16s 266us/step - loss: 0.0015 - acc: 1.0000 - val_loss: 0.0777 - val_acc: 0.9786\n",
      "Epoch 63/100\n",
      "60000/60000 [==============================] - 16s 264us/step - loss: 0.0015 - acc: 1.0000 - val_loss: 0.0776 - val_acc: 0.9786\n",
      "Epoch 64/100\n",
      "60000/60000 [==============================] - 16s 266us/step - loss: 0.0015 - acc: 1.0000 - val_loss: 0.0779 - val_acc: 0.9788\n",
      "Epoch 65/100\n",
      "60000/60000 [==============================] - 16s 270us/step - loss: 0.0014 - acc: 1.0000 - val_loss: 0.0784 - val_acc: 0.9793\n",
      "Epoch 66/100\n",
      "60000/60000 [==============================] - 17s 279us/step - loss: 0.0014 - acc: 1.0000 - val_loss: 0.0779 - val_acc: 0.9790\n",
      "Epoch 67/100\n",
      "60000/60000 [==============================] - 17s 280us/step - loss: 0.0014 - acc: 1.0000 - val_loss: 0.0780 - val_acc: 0.9788\n",
      "Epoch 68/100\n",
      "60000/60000 [==============================] - 16s 267us/step - loss: 0.0013 - acc: 1.0000 - val_loss: 0.0776 - val_acc: 0.9790\n",
      "Epoch 69/100\n",
      "60000/60000 [==============================] - 17s 277us/step - loss: 0.0013 - acc: 1.0000 - val_loss: 0.0785 - val_acc: 0.9788\n",
      "Epoch 70/100\n",
      "60000/60000 [==============================] - 17s 284us/step - loss: 0.0013 - acc: 1.0000 - val_loss: 0.0788 - val_acc: 0.9794\n",
      "Epoch 71/100\n",
      "60000/60000 [==============================] - 15s 254us/step - loss: 0.0013 - acc: 1.0000 - val_loss: 0.0792 - val_acc: 0.9788\n",
      "Epoch 72/100\n",
      "60000/60000 [==============================] - 15s 244us/step - loss: 0.0012 - acc: 1.0000 - val_loss: 0.0790 - val_acc: 0.9794\n",
      "Epoch 73/100\n",
      "60000/60000 [==============================] - 15s 243us/step - loss: 0.0012 - acc: 1.0000 - val_loss: 0.0793 - val_acc: 0.9793\n",
      "Epoch 74/100\n",
      "60000/60000 [==============================] - 16s 261us/step - loss: 0.0012 - acc: 1.0000 - val_loss: 0.0793 - val_acc: 0.9788\n",
      "Epoch 75/100\n",
      "60000/60000 [==============================] - 15s 245us/step - loss: 0.0012 - acc: 1.0000 - val_loss: 0.0792 - val_acc: 0.9791\n",
      "Epoch 76/100\n",
      "60000/60000 [==============================] - 16s 266us/step - loss: 0.0012 - acc: 1.0000 - val_loss: 0.0797 - val_acc: 0.9794\n",
      "Epoch 77/100\n",
      "60000/60000 [==============================] - 11s 183us/step - loss: 0.0011 - acc: 1.0000 - val_loss: 0.0796 - val_acc: 0.9791\n",
      "Epoch 78/100\n",
      "60000/60000 [==============================] - 9s 147us/step - loss: 0.0011 - acc: 1.0000 - val_loss: 0.0802 - val_acc: 0.9794\n",
      "Epoch 79/100\n",
      "60000/60000 [==============================] - 8s 126us/step - loss: 0.0011 - acc: 1.0000 - val_loss: 0.0796 - val_acc: 0.9789\n",
      "Epoch 80/100\n",
      "60000/60000 [==============================] - 12s 200us/step - loss: 0.0011 - acc: 1.0000 - val_loss: 0.0796 - val_acc: 0.9794\n",
      "Epoch 81/100\n",
      "60000/60000 [==============================] - 11s 190us/step - loss: 0.0011 - acc: 1.0000 - val_loss: 0.0802 - val_acc: 0.9789\n",
      "Epoch 82/100\n",
      "60000/60000 [==============================] - 10s 169us/step - loss: 0.0010 - acc: 1.0000 - val_loss: 0.0800 - val_acc: 0.9789\n",
      "Epoch 83/100\n",
      "60000/60000 [==============================] - 13s 214us/step - loss: 0.0010 - acc: 1.0000 - val_loss: 0.0800 - val_acc: 0.9791\n",
      "Epoch 84/100\n",
      "60000/60000 [==============================] - 15s 256us/step - loss: 0.0010 - acc: 1.0000 - val_loss: 0.0802 - val_acc: 0.9794\n",
      "Epoch 85/100\n",
      "60000/60000 [==============================] - 16s 260us/step - loss: 9.9522e-04 - acc: 1.0000 - val_loss: 0.0801 - val_acc: 0.9793\n",
      "Epoch 86/100\n",
      "60000/60000 [==============================] - 15s 248us/step - loss: 9.7505e-04 - acc: 1.0000 - val_loss: 0.0802 - val_acc: 0.9789\n",
      "Epoch 87/100\n",
      "60000/60000 [==============================] - 14s 229us/step - loss: 9.6106e-04 - acc: 1.0000 - val_loss: 0.0806 - val_acc: 0.9794\n",
      "Epoch 88/100\n",
      "60000/60000 [==============================] - 13s 213us/step - loss: 9.4803e-04 - acc: 1.0000 - val_loss: 0.0810 - val_acc: 0.9789\n",
      "Epoch 89/100\n",
      "60000/60000 [==============================] - 14s 226us/step - loss: 9.3317e-04 - acc: 1.0000 - val_loss: 0.0805 - val_acc: 0.9789\n",
      "Epoch 90/100\n",
      "60000/60000 [==============================] - 12s 199us/step - loss: 9.2102e-04 - acc: 1.0000 - val_loss: 0.0810 - val_acc: 0.9793\n",
      "Epoch 91/100\n",
      "60000/60000 [==============================] - 13s 211us/step - loss: 9.0582e-04 - acc: 1.0000 - val_loss: 0.0811 - val_acc: 0.9792\n",
      "Epoch 92/100\n",
      "60000/60000 [==============================] - 14s 232us/step - loss: 8.9484e-04 - acc: 1.0000 - val_loss: 0.0813 - val_acc: 0.9790\n",
      "Epoch 93/100\n",
      "60000/60000 [==============================] - 12s 205us/step - loss: 8.8172e-04 - acc: 1.0000 - val_loss: 0.0812 - val_acc: 0.9792\n",
      "Epoch 94/100\n",
      "60000/60000 [==============================] - 13s 209us/step - loss: 8.7052e-04 - acc: 1.0000 - val_loss: 0.0816 - val_acc: 0.9796\n",
      "Epoch 95/100\n",
      "60000/60000 [==============================] - 12s 202us/step - loss: 8.5648e-04 - acc: 1.0000 - val_loss: 0.0816 - val_acc: 0.9793\n",
      "Epoch 96/100\n",
      "60000/60000 [==============================] - 8s 130us/step - loss: 8.4670e-04 - acc: 1.0000 - val_loss: 0.0818 - val_acc: 0.9793\n",
      "Epoch 97/100\n",
      "60000/60000 [==============================] - 8s 132us/step - loss: 8.3332e-04 - acc: 1.0000 - val_loss: 0.0817 - val_acc: 0.9792\n",
      "Epoch 98/100\n",
      "60000/60000 [==============================] - 10s 161us/step - loss: 8.2461e-04 - acc: 1.0000 - val_loss: 0.0818 - val_acc: 0.9794\n",
      "Epoch 99/100\n",
      "60000/60000 [==============================] - 8s 133us/step - loss: 8.1602e-04 - acc: 1.0000 - val_loss: 0.0814 - val_acc: 0.9791\n",
      "Epoch 100/100\n",
      "60000/60000 [==============================] - 8s 127us/step - loss: 8.0553e-04 - acc: 1.0000 - val_loss: 0.0819 - val_acc: 0.9791\n"
     ]
    }
   ],
   "source": [
    "hist = model.fit(X_train, Y_train, batch_size=batch_size, \n",
    "                 epochs=nb_epoch, verbose=1, \n",
    "                 validation_data=(X_test, Y_test))"
   ]
  },
  {
   "cell_type": "code",
   "execution_count": 22,
   "metadata": {},
   "outputs": [
    {
     "data": {
      "text/plain": [
       "<matplotlib.legend.Legend at 0x7f284eceaf28>"
      ]
     },
     "execution_count": 22,
     "metadata": {},
     "output_type": "execute_result"
    },
    {
     "data": {
      "image/png": "[encoded data removed]",
      "text/plain": [
       "<matplotlib.figure.Figure at 0x7f2851399860>"
      ]
     },
     "metadata": {},
     "output_type": "display_data"
    },
    {
     "data": {
      "image/png": "[encoded data removed]",
      "text/plain": [
       "<matplotlib.figure.Figure at 0x7f284ecca908>"
      ]
     },
     "metadata": {},
     "output_type": "display_data"
    }
   ],
   "source": [
    "# import matplotlib.pyplot as plt\n",
    "# %matplotlib inline\n",
    "\n",
    "plt.figure()\n",
    "plt.xlabel('Epochs')\n",
    "plt.ylabel('Loss')\n",
    "plt.plot(hist.history['loss'])\n",
    "plt.plot(hist.history['val_loss'])\n",
    "plt.legend(['Training', 'Validation'])\n",
    "\n",
    "plt.figure()\n",
    "plt.xlabel('Epochs')\n",
    "plt.ylabel('Accuracy')\n",
    "plt.plot(hist.history['acc'])\n",
    "plt.plot(hist.history['val_acc'])\n",
    "plt.legend(['Training', 'Validation'], loc='lower right')"
   ]
  },
  {
   "cell_type": "markdown",
   "metadata": {
    "slideshow": {
     "slide_type": "subslide"
    }
   },
   "source": [
    "### Step 4: Evaluate"
   ]
  },
  {
   "cell_type": "code",
   "execution_count": 23,
   "metadata": {},
   "outputs": [
    {
     "name": "stdout",
     "output_type": "stream",
     "text": [
      "Available Metrics in Model: ['loss', 'acc']\n"
     ]
    }
   ],
   "source": [
    "print('Available Metrics in Model: {}'.format(model.metrics_names))"
   ]
  },
  {
   "cell_type": "code",
   "execution_count": 24,
   "metadata": {},
   "outputs": [
    {
     "name": "stdout",
     "output_type": "stream",
     "text": [
      "Test Loss: 0.0819143198573216\n",
      "Test Accuracy: 0.9791\n"
     ]
    }
   ],
   "source": [
    "# Evaluating the model on the test data    \n",
    "loss, accuracy = model.evaluate(X_test, Y_test, verbose=0)\n",
    "print('Test Loss:', loss)\n",
    "print('Test Accuracy:', accuracy)"
   ]
  },
  {
   "cell_type": "markdown",
   "metadata": {
    "slideshow": {
     "slide_type": "subslide"
    }
   },
   "source": [
    "### Let's plot our model Predictions!"
   ]
  },
  {
   "cell_type": "code",
   "execution_count": 25,
   "metadata": {
    "scrolled": true,
    "slideshow": {
     "slide_type": "subslide"
    }
   },
   "outputs": [
    {
     "data": {
      "image/png": "[encoded data removed]",
      "text/plain": [
       "<matplotlib.figure.Figure at 0x7f2851399a58>"
      ]
     },
     "metadata": {},
     "output_type": "display_data"
    }
   ],
   "source": [
    "slice = 20\n",
    "predicted = model.predict(X_test[:slice]).argmax(-1)\n",
    "\n",
    "plt.figure(figsize=(16,8))\n",
    "for i in range(slice):\n",
    "    plt.subplot(1, slice, i+1)\n",
    "    plt.imshow(X_test_orig[i], interpolation='nearest')\n",
    "    plt.text(0, 0, predicted[i], color='black', \n",
    "             bbox=dict(facecolor='white', alpha=1))\n",
    "    plt.axis('off')"
   ]
  },
  {
   "cell_type": "markdown",
   "metadata": {},
   "source": [
    "---"
   ]
  }
 ],
 "metadata": {
  "kernelspec": {
   "display_name": "Python 3",
   "language": "python",
   "name": "python3"
  },
  "language_info": {
   "codemirror_mode": {
    "name": "ipython",
    "version": 3
   },
   "file_extension": ".py",
   "mimetype": "text/x-python",
   "name": "python",
   "nbconvert_exporter": "python",
   "pygments_lexer": "ipython3",
   "version": "3.6.4"
  }
 },
 "nbformat": 4,
 "nbformat_minor": 1
}
