{
 "cells": [
  {
   "cell_type": "code",
   "execution_count": 4,
   "metadata": {
    "scrolled": true
   },
   "outputs": [
    {
     "name": "stdout",
     "output_type": "stream",
     "text": [
      "\u001b[31mCannot uninstall requirement opencv-contrib-python, not installed\u001b[0m\r\n"
     ]
    }
   ],
   "source": [
    "# !pip uninstall opencv-contrib-python"
   ]
  },
  {
   "cell_type": "code",
   "execution_count": 6,
   "metadata": {},
   "outputs": [
    {
     "name": "stdout",
     "output_type": "stream",
     "text": [
      "Collecting opencv-python\n",
      "  Downloading opencv_python-3.4.0.12-cp36-cp36m-manylinux1_x86_64.whl (24.9MB)\n",
      "\u001b[K    100% |████████████████████████████████| 24.9MB 49kB/s eta 0:00:01  0% |                                | 30kB 874kB/s eta 0:00:29    18% |██████                          | 4.7MB 1.2MB/s eta 0:00:17    33% |██████████▋                     | 8.2MB 2.6MB/s eta 0:00:07\n",
      "\u001b[?25hRequirement already satisfied: numpy>=1.11.3 in /home/iss-user/anaconda3/envs/iss-env-py3/lib/python3.6/site-packages (from opencv-python)\n",
      "Installing collected packages: opencv-python\n",
      "Successfully installed opencv-python-3.4.0.12\n"
     ]
    }
   ],
   "source": [
    "# !pip install opencv-python"
   ]
  },
  {
   "cell_type": "code",
   "execution_count": 2,
   "metadata": {
    "scrolled": true
   },
   "outputs": [
    {
     "name": "stdout",
     "output_type": "stream",
     "text": [
      "/home/iss-user/anaconda3/envs/iss-env-py3/lib/python3.6/site-packages/h5py/__init__.py:36: FutureWarning: Conversion of the second argument of issubdtype from `float` to `np.floating` is deprecated. In future, it will be treated as `np.float64 == np.dtype(float).type`.\n",
      "  from ._conv import register_converters as _register_converters\n",
      "[DEBUG/MainProcess] created semlock with handle 139741941075968\n",
      "[DEBUG/MainProcess] created semlock with handle 139741941071872\n",
      "[DEBUG/MainProcess] created semlock with handle 139741941067776\n",
      "[DEBUG/MainProcess] Queue._after_fork()\n",
      "[DEBUG/MainProcess] created semlock with handle 139741941063680\n",
      "[DEBUG/MainProcess] created semlock with handle 139741941059584\n",
      "[DEBUG/MainProcess] created semlock with handle 139741941055488\n",
      "[DEBUG/MainProcess] Queue._after_fork()\n",
      "[DEBUG/MainProcess] created semlock with handle 139741941051392\n",
      "[DEBUG/MainProcess] created semlock with handle 139741941047296\n",
      "[DEBUG/MainProcess] created semlock with handle 139741941043200\n",
      "[DEBUG/MainProcess] created semlock with handle 139741941039104\n",
      "[DEBUG/MainProcess] added worker\n",
      "[DEBUG/MainProcess] added worker\n",
      "[DEBUG/ForkPoolWorker-1] Queue._after_fork()\n",
      "[DEBUG/ForkPoolWorker-1] Queue._after_fork()\n",
      "[INFO/ForkPoolWorker-1] child process calling self.run()\n",
      "[DEBUG/ForkPoolWorker-2] Queue._after_fork()\n",
      "[DEBUG/ForkPoolWorker-2] Queue._after_fork()\n",
      "[INFO/ForkPoolWorker-2] child process calling self.run()\n",
      "[DEBUG/MainProcess] Queue._start_thread()\n",
      "[DEBUG/MainProcess] doing self._thread.start()\n",
      "[DEBUG/MainProcess] starting thread to feed data to pipe\n",
      "[DEBUG/MainProcess] ... done self._thread.start()\n",
      "2018-02-24 21:59:47.926076: I tensorflow/core/platform/cpu_feature_guard.cc:137] Your CPU supports instructions that this TensorFlow binary was not compiled to use: SSE4.1 SSE4.2 AVX\n",
      "2018-02-24 21:59:47.935275: I tensorflow/core/platform/cpu_feature_guard.cc:137] Your CPU supports instructions that this TensorFlow binary was not compiled to use: SSE4.1 SSE4.2 AVX\n",
      "[DEBUG/ForkPoolWorker-2] Queue._start_thread()\n",
      "[DEBUG/ForkPoolWorker-2] doing self._thread.start()\n",
      "[DEBUG/ForkPoolWorker-2] starting thread to feed data to pipe\n",
      "[DEBUG/ForkPoolWorker-2] ... done self._thread.start()\n",
      "[INFO] elapsed time: 18.70\n",
      "[DEBUG/ForkPoolWorker-1] Queue._start_thread()\n",
      "[DEBUG/ForkPoolWorker-1] doing self._thread.start()\n",
      "[DEBUG/ForkPoolWorker-1] starting thread to feed data to pipe\n",
      "[DEBUG/ForkPoolWorker-1] ... done self._thread.start()\n",
      "[INFO] elapsed time: 3.41\n",
      "[INFO] elapsed time: 0.63\n",
      "[INFO] elapsed time: 0.48\n",
      "[INFO] elapsed time: 0.44\n",
      "[INFO] elapsed time: 0.41\n",
      "[INFO] elapsed time: 0.45\n",
      "[INFO] elapsed time: 0.46\n",
      "[INFO] elapsed time: 0.52\n",
      "[INFO] elapsed time: 0.42\n",
      "[INFO] elapsed time: 0.41\n",
      "[INFO] elapsed time: 0.43\n",
      "[INFO] elapsed time: 0.60\n",
      "[INFO] elapsed time: 0.39\n",
      "[INFO] elapsed time: 0.80\n",
      "[INFO] elapsed time: 0.55\n",
      "[INFO] elapsed time: 0.58\n",
      "[INFO] elapsed time: 0.50\n",
      "[INFO] elapsed time: 0.76\n",
      "[INFO] elapsed time: 0.56\n",
      "[INFO] elapsed time: 0.47\n",
      "[INFO] elapsed time: 0.53\n",
      "[INFO] elapsed time: 0.41\n",
      "[INFO] elapsed time: 0.52\n",
      "[INFO] elapsed time: 0.44\n",
      "[INFO] elapsed time: 0.79\n",
      "[INFO] elapsed time: 0.57\n",
      "[INFO] elapsed time: 0.52\n",
      "[INFO] elapsed time: 0.59\n",
      "[INFO] elapsed time: 0.49\n",
      "[INFO] elapsed time: 0.50\n",
      "[INFO] elapsed time: 0.57\n",
      "[INFO] elapsed time: 0.62\n",
      "[INFO] elapsed time: 0.88\n",
      "[INFO] elapsed time: 1.25\n",
      "[INFO] elapsed time: 0.64\n",
      "[INFO] elapsed time: 0.62\n",
      "[INFO] elapsed time: 0.40\n",
      "[INFO] elapsed time: 0.41\n",
      "[INFO] elapsed time: 0.40\n",
      "^C\n"
     ]
    }
   ],
   "source": [
    "!python object_detection_app.py"
   ]
  },
  {
   "cell_type": "code",
   "execution_count": null,
   "metadata": {},
   "outputs": [],
   "source": []
  }
 ],
 "metadata": {
  "kernelspec": {
   "display_name": "Python 3",
   "language": "python",
   "name": "python3"
  },
  "language_info": {
   "codemirror_mode": {
    "name": "ipython",
    "version": 3
   },
   "file_extension": ".py",
   "mimetype": "text/x-python",
   "name": "python",
   "nbconvert_exporter": "python",
   "pygments_lexer": "ipython3",
   "version": "3.6.4"
  }
 },
 "nbformat": 4,
 "nbformat_minor": 2
}
