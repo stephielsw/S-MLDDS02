{
 "cells": [
  {
   "cell_type": "markdown",
   "metadata": {},
   "source": [
    "# Object Detection Demo\n",
    "Welcome to the object detection inference walkthrough!  This notebook will walk you step by step through the process of using a pre-trained model to detect objects in an image."
   ]
  },
  {
   "cell_type": "markdown",
   "metadata": {},
   "source": [
    "# Imports"
   ]
  },
  {
   "cell_type": "code",
   "execution_count": 1,
   "metadata": {
    "scrolled": true
   },
   "outputs": [
    {
     "name": "stderr",
     "output_type": "stream",
     "text": [
      "/home/iss-user/anaconda3/envs/iss-env-py3/lib/python3.6/site-packages/h5py/__init__.py:36: FutureWarning: Conversion of the second argument of issubdtype from `float` to `np.floating` is deprecated. In future, it will be treated as `np.float64 == np.dtype(float).type`.\n",
      "  from ._conv import register_converters as _register_converters\n"
     ]
    }
   ],
   "source": [
    "import numpy as np\n",
    "import os\n",
    "import six.moves.urllib as urllib\n",
    "import sys\n",
    "import tarfile\n",
    "import tensorflow as tf\n",
    "import zipfile\n",
    "\n",
    "from collections import defaultdict\n",
    "from io import StringIO\n",
    "from matplotlib import pyplot as plt\n",
    "from PIL import Image"
   ]
  },
  {
   "cell_type": "markdown",
   "metadata": {},
   "source": [
    "## Env setup"
   ]
  },
  {
   "cell_type": "code",
   "execution_count": 2,
   "metadata": {},
   "outputs": [],
   "source": [
    "# This is needed to display the images.\n",
    "%matplotlib inline\n",
    "\n",
    "# This is needed since the notebook is stored in the object_detection folder.\n",
    "sys.path.append(\"..\")"
   ]
  },
  {
   "cell_type": "code",
   "execution_count": 3,
   "metadata": {},
   "outputs": [
    {
     "data": {
      "text/plain": [
       "['',\n",
       " '/home/iss-user/anaconda3/envs/iss-env-py3/lib/python36.zip',\n",
       " '/home/iss-user/anaconda3/envs/iss-env-py3/lib/python3.6',\n",
       " '/home/iss-user/anaconda3/envs/iss-env-py3/lib/python3.6/lib-dynload',\n",
       " '/home/iss-user/anaconda3/envs/iss-env-py3/lib/python3.6/site-packages',\n",
       " '/home/iss-user/anaconda3/envs/iss-env-py3/lib/python3.6/site-packages/mujoco_py-1.50.1.36-py3.6.egg',\n",
       " '/home/iss-user/anaconda3/envs/iss-env-py3/lib/python3.6/site-packages/torchvision-0.2.0-py3.6.egg',\n",
       " '/home/iss-user/anaconda3/envs/iss-env-py3/lib/python3.6/site-packages/IPython/extensions',\n",
       " '/home/iss-user/.ipython',\n",
       " '..']"
      ]
     },
     "execution_count": 3,
     "metadata": {},
     "output_type": "execute_result"
    }
   ],
   "source": [
    "sys.path"
   ]
  },
  {
   "cell_type": "markdown",
   "metadata": {},
   "source": [
    "## Object detection imports\n",
    "Here are the imports from the object detection module."
   ]
  },
  {
   "cell_type": "code",
   "execution_count": 4,
   "metadata": {},
   "outputs": [],
   "source": [
    "from utils import label_map_util\n",
    "\n",
    "from utils import visualization_utils as vis_util"
   ]
  },
  {
   "cell_type": "markdown",
   "metadata": {},
   "source": [
    "# Model preparation "
   ]
  },
  {
   "cell_type": "markdown",
   "metadata": {},
   "source": [
    "## Variables\n",
    "\n",
    "Any model exported using the `export_inference_graph.py` tool can be loaded here simply by changing `PATH_TO_CKPT` to point to a new .pb file.  \n",
    "\n",
    "By default we use an \"SSD with Mobilenet\" model here. See the [detection model zoo](g3doc/detection_model_zoo.md) for a list of other models that can be run out-of-the-box with varying speeds and accuracies."
   ]
  },
  {
   "cell_type": "markdown",
   "metadata": {},
   "source": [
    "https://github.com/tensorflow/models/blob/master/research/object_detection/g3doc/detection_model_zoo.md"
   ]
  },
  {
   "cell_type": "code",
   "execution_count": 5,
   "metadata": {},
   "outputs": [],
   "source": [
    "# What model to download.\n",
    "\n",
    "# MODEL_NAME = 'ssd_mobilenet_v1_coco_11_06_2017' # 30 21\n",
    "# MODEL_NAME = 'mask_rcnn_inception_v2_coco_2018_01_28' # 79 25\n",
    "MODEL_NAME = 'faster_rcnn_nas_coco_2018_01_28' # 1833 43\n",
    "# MODEL_NAME = ''\n",
    "\n",
    "# MODEL_NAME = 'faster_rcnn_inception_resnet_v2_atrous_oid_2018_01_28' \n",
    "# MODEL_NAME = ''\n",
    "\n",
    "# MODEL_NAME = 'faster_rcnn_resnet101_kitti_2018_01_28'\n",
    "# MODEL_NAME = ''\n",
    "\n",
    "\n",
    "MODEL_FILE = MODEL_NAME + '.tar.gz'\n",
    "DOWNLOAD_BASE = 'http://download.tensorflow.org/models/object_detection/'\n",
    "\n",
    "# Path to frozen detection graph. This is the actual model that is used for the object detection.\n",
    "PATH_TO_CKPT = MODEL_NAME + '/frozen_inference_graph.pb'\n",
    "\n",
    "# List of the strings that is used to add correct label for each box.\n",
    "PATH_TO_LABELS = os.path.join('data', 'mscoco_label_map.pbtxt')\n",
    "# PATH_TO_LABELS = os.path.join('data', 'openimage_label_map.pbtxt')\n",
    "\n",
    "NUM_CLASSES = 90\n",
    "# NUM_CLASSES = 19995"
   ]
  },
  {
   "cell_type": "markdown",
   "metadata": {},
   "source": [
    "## Download Model"
   ]
  },
  {
   "cell_type": "code",
   "execution_count": null,
   "metadata": {
    "scrolled": false
   },
   "outputs": [],
   "source": [
    "opener = urllib.request.URLopener()\n",
    "opener.retrieve(DOWNLOAD_BASE + MODEL_FILE, MODEL_FILE)\n",
    "tar_file = tarfile.open(MODEL_FILE)\n",
    "for file in tar_file.getmembers():\n",
    "    file_name = os.path.basename(file.name)\n",
    "    if 'frozen_inference_graph.pb' in file_name:\n",
    "        tar_file.extract(file, os.getcwd())"
   ]
  },
  {
   "cell_type": "markdown",
   "metadata": {},
   "source": [
    "## Load a (frozen) Tensorflow model into memory."
   ]
  },
  {
   "cell_type": "code",
   "execution_count": 6,
   "metadata": {},
   "outputs": [],
   "source": [
    "detection_graph = tf.Graph()\n",
    "with detection_graph.as_default():\n",
    "    od_graph_def = tf.GraphDef()\n",
    "    with tf.gfile.GFile(PATH_TO_CKPT, 'rb') as fid:\n",
    "        serialized_graph = fid.read()\n",
    "        od_graph_def.ParseFromString(serialized_graph)\n",
    "        tf.import_graph_def(od_graph_def, name='')"
   ]
  },
  {
   "cell_type": "markdown",
   "metadata": {},
   "source": [
    "## Loading label map\n",
    "Label maps map indices to category names, so that when our convolution network predicts `5`, we know that this corresponds to `airplane`.  Here we use internal utility functions, but anything that returns a dictionary mapping integers to appropriate string labels would be fine"
   ]
  },
  {
   "cell_type": "code",
   "execution_count": 7,
   "metadata": {},
   "outputs": [
    {
     "data": {
      "text/plain": [
       "\"\\n# For OpenImage's pre-trained model only: MODEL_NAME = 'faster_rcnn_inception_resnet_v2_atrous_oid_2018_01_28'\\n# 2018-02-23\\n# load OpenImage's 19995 different object classes\\nimport csv\\n\\nreader = csv.reader(open('data/class-descriptions.csv', 'r'))\\ndict_csv = []\\ndict_object_class_list = []\\ndict_object_class = {}\\n\\nfor line in reader:\\n    dict_csv.append(line)\\n\\nfor i in range(0, len(dict_csv)):\\n    dict_object_class = {}\\n    dict_object_class['id'] = i+1\\n    dict_object_class['name'] = dict_csv[i][1] #     dict_object_class['display_name'] = dict_csv[i][1]\\n    dict_object_class_list.append(dict_object_class)\\n\\ncategories = dict_object_class_list\\ncategory_index = label_map_util.create_category_index(categories)\\n\\nNUM_CLASSES = len(categories)\\n\\ncategories[0:10]\\n\""
      ]
     },
     "execution_count": 7,
     "metadata": {},
     "output_type": "execute_result"
    }
   ],
   "source": [
    "'''\n",
    "# For OpenImage's pre-trained model only: MODEL_NAME = 'faster_rcnn_inception_resnet_v2_atrous_oid_2018_01_28'\n",
    "# 2018-02-23\n",
    "# load OpenImage's 19995 different object classes\n",
    "import csv\n",
    "\n",
    "reader = csv.reader(open('data/class-descriptions.csv', 'r'))\n",
    "dict_csv = []\n",
    "dict_object_class_list = []\n",
    "dict_object_class = {}\n",
    "\n",
    "for line in reader:\n",
    "    dict_csv.append(line)\n",
    "\n",
    "for i in range(0, len(dict_csv)):\n",
    "    dict_object_class = {}\n",
    "    dict_object_class['id'] = i+1\n",
    "    dict_object_class['name'] = dict_csv[i][1] #     dict_object_class['display_name'] = dict_csv[i][1]\n",
    "    dict_object_class_list.append(dict_object_class)\n",
    "\n",
    "categories = dict_object_class_list\n",
    "category_index = label_map_util.create_category_index(categories)\n",
    "\n",
    "NUM_CLASSES = len(categories)\n",
    "\n",
    "categories[0:10]\n",
    "'''"
   ]
  },
  {
   "cell_type": "markdown",
   "metadata": {},
   "source": [
    "---"
   ]
  },
  {
   "cell_type": "code",
   "execution_count": 8,
   "metadata": {},
   "outputs": [],
   "source": [
    "label_map = label_map_util.load_labelmap(PATH_TO_LABELS)\n",
    "categories = label_map_util.convert_label_map_to_categories(label_map, max_num_classes=NUM_CLASSES, use_display_name=True)\n",
    "category_index = label_map_util.create_category_index(categories)"
   ]
  },
  {
   "cell_type": "code",
   "execution_count": 9,
   "metadata": {},
   "outputs": [
    {
     "data": {
      "text/plain": [
       "[{'id': 1, 'name': 'person'},\n",
       " {'id': 2, 'name': 'bicycle'},\n",
       " {'id': 3, 'name': 'car'},\n",
       " {'id': 4, 'name': 'motorcycle'},\n",
       " {'id': 5, 'name': 'airplane'},\n",
       " {'id': 6, 'name': 'bus'},\n",
       " {'id': 7, 'name': 'train'},\n",
       " {'id': 8, 'name': 'truck'},\n",
       " {'id': 9, 'name': 'boat'},\n",
       " {'id': 10, 'name': 'traffic light'},\n",
       " {'id': 11, 'name': 'fire hydrant'},\n",
       " {'id': 13, 'name': 'stop sign'},\n",
       " {'id': 14, 'name': 'parking meter'},\n",
       " {'id': 15, 'name': 'bench'},\n",
       " {'id': 16, 'name': 'bird'},\n",
       " {'id': 17, 'name': 'cat'},\n",
       " {'id': 18, 'name': 'dog'},\n",
       " {'id': 19, 'name': 'horse'},\n",
       " {'id': 20, 'name': 'sheep'},\n",
       " {'id': 21, 'name': 'cow'},\n",
       " {'id': 22, 'name': 'elephant'},\n",
       " {'id': 23, 'name': 'bear'},\n",
       " {'id': 24, 'name': 'zebra'},\n",
       " {'id': 25, 'name': 'giraffe'},\n",
       " {'id': 27, 'name': 'backpack'},\n",
       " {'id': 28, 'name': 'umbrella'},\n",
       " {'id': 31, 'name': 'handbag'},\n",
       " {'id': 32, 'name': 'tie'},\n",
       " {'id': 33, 'name': 'suitcase'},\n",
       " {'id': 34, 'name': 'frisbee'},\n",
       " {'id': 35, 'name': 'skis'},\n",
       " {'id': 36, 'name': 'snowboard'},\n",
       " {'id': 37, 'name': 'sports ball'},\n",
       " {'id': 38, 'name': 'kite'},\n",
       " {'id': 39, 'name': 'baseball bat'},\n",
       " {'id': 40, 'name': 'baseball glove'},\n",
       " {'id': 41, 'name': 'skateboard'},\n",
       " {'id': 42, 'name': 'surfboard'},\n",
       " {'id': 43, 'name': 'tennis racket'},\n",
       " {'id': 44, 'name': 'bottle'},\n",
       " {'id': 46, 'name': 'wine glass'},\n",
       " {'id': 47, 'name': 'cup'},\n",
       " {'id': 48, 'name': 'fork'},\n",
       " {'id': 49, 'name': 'knife'},\n",
       " {'id': 50, 'name': 'spoon'},\n",
       " {'id': 51, 'name': 'bowl'},\n",
       " {'id': 52, 'name': 'banana'},\n",
       " {'id': 53, 'name': 'apple'},\n",
       " {'id': 54, 'name': 'sandwich'},\n",
       " {'id': 55, 'name': 'orange'},\n",
       " {'id': 56, 'name': 'broccoli'},\n",
       " {'id': 57, 'name': 'carrot'},\n",
       " {'id': 58, 'name': 'hot dog'},\n",
       " {'id': 59, 'name': 'pizza'},\n",
       " {'id': 60, 'name': 'donut'},\n",
       " {'id': 61, 'name': 'cake'},\n",
       " {'id': 62, 'name': 'chair'},\n",
       " {'id': 63, 'name': 'couch'},\n",
       " {'id': 64, 'name': 'potted plant'},\n",
       " {'id': 65, 'name': 'bed'},\n",
       " {'id': 67, 'name': 'dining table'},\n",
       " {'id': 70, 'name': 'toilet'},\n",
       " {'id': 72, 'name': 'tv'},\n",
       " {'id': 73, 'name': 'laptop'},\n",
       " {'id': 74, 'name': 'mouse'},\n",
       " {'id': 75, 'name': 'remote'},\n",
       " {'id': 76, 'name': 'keyboard'},\n",
       " {'id': 77, 'name': 'cell phone'},\n",
       " {'id': 78, 'name': 'microwave'},\n",
       " {'id': 79, 'name': 'oven'},\n",
       " {'id': 80, 'name': 'toaster'},\n",
       " {'id': 81, 'name': 'sink'},\n",
       " {'id': 82, 'name': 'refrigerator'},\n",
       " {'id': 84, 'name': 'book'},\n",
       " {'id': 85, 'name': 'clock'},\n",
       " {'id': 86, 'name': 'vase'},\n",
       " {'id': 87, 'name': 'scissors'},\n",
       " {'id': 88, 'name': 'teddy bear'},\n",
       " {'id': 89, 'name': 'hair drier'},\n",
       " {'id': 90, 'name': 'toothbrush'}]"
      ]
     },
     "execution_count": 9,
     "metadata": {},
     "output_type": "execute_result"
    }
   ],
   "source": [
    "categories"
   ]
  },
  {
   "cell_type": "markdown",
   "metadata": {},
   "source": [
    "## Helper code"
   ]
  },
  {
   "cell_type": "code",
   "execution_count": 10,
   "metadata": {},
   "outputs": [],
   "source": [
    "def load_image_into_numpy_array(image):\n",
    "  (im_width, im_height) = image.size\n",
    "  return np.array(image.getdata()).reshape(\n",
    "      (im_height, im_width, 3)).astype(np.uint8)"
   ]
  },
  {
   "cell_type": "markdown",
   "metadata": {},
   "source": [
    "# Detection"
   ]
  },
  {
   "cell_type": "code",
   "execution_count": 11,
   "metadata": {},
   "outputs": [],
   "source": [
    "# For the sake of simplicity we will use only 2 images:\n",
    "# image1.jpg\n",
    "# image2.jpg\n",
    "# If you want to test the code with your images, just add path to the images to the TEST_IMAGE_PATHS.\n",
    "PATH_TO_TEST_IMAGES_DIR = 'test_images'\n",
    "# TEST_IMAGE_PATHS = [ os.path.join(PATH_TO_TEST_IMAGES_DIR, 'image{}.jpg'.format(i)) for i in range(1, 11) ]\n",
    "TEST_IMAGE_PATHS = [ os.path.join(PATH_TO_TEST_IMAGES_DIR, 'image{}.jpg'.format(i)) for i in range(4, 5) ]\n",
    "\n",
    "# Size, in inches, of the output images.\n",
    "IMAGE_SIZE = (12, 8)"
   ]
  },
  {
   "cell_type": "code",
   "execution_count": null,
   "metadata": {
    "scrolled": false
   },
   "outputs": [],
   "source": [
    "with detection_graph.as_default():\n",
    "  with tf.Session(graph=detection_graph) as sess:\n",
    "    for image_path in TEST_IMAGE_PATHS:\n",
    "      image = Image.open(image_path)\n",
    "      # the array based representation of the image will be used later in order to prepare the\n",
    "      # result image with boxes and labels on it.\n",
    "      image_np = load_image_into_numpy_array(image)\n",
    "      # Expand dimensions since the model expects images to have shape: [1, None, None, 3]\n",
    "      image_np_expanded = np.expand_dims(image_np, axis=0)\n",
    "      image_tensor = detection_graph.get_tensor_by_name('image_tensor:0')\n",
    "      # Each box represents a part of the image where a particular object was detected.\n",
    "      boxes = detection_graph.get_tensor_by_name('detection_boxes:0')\n",
    "      # Each score represent how level of confidence for each of the objects.\n",
    "      # Score is shown on the result image, together with the class label.\n",
    "      scores = detection_graph.get_tensor_by_name('detection_scores:0')\n",
    "      classes = detection_graph.get_tensor_by_name('detection_classes:0')\n",
    "      num_detections = detection_graph.get_tensor_by_name('num_detections:0')\n",
    "      # Actual detection.\n",
    "      (boxes, scores, classes, num_detections) = sess.run(\n",
    "          [boxes, scores, classes, num_detections],\n",
    "          feed_dict={image_tensor: image_np_expanded})\n",
    "      # Visualization of the results of a detection.\n",
    "      vis_util.visualize_boxes_and_labels_on_image_array(\n",
    "          image_np,\n",
    "          np.squeeze(boxes),\n",
    "          np.squeeze(classes).astype(np.int32),\n",
    "          np.squeeze(scores),\n",
    "          category_index,\n",
    "          use_normalized_coordinates=True,\n",
    "          line_thickness=8)\n",
    "      plt.figure(figsize=IMAGE_SIZE)\n",
    "      plt.imshow(image_np)"
   ]
  },
  {
   "cell_type": "markdown",
   "metadata": {
    "collapsed": true
   },
   "source": [
    "---"
   ]
  }
 ],
 "metadata": {
  "kernelspec": {
   "display_name": "Python 3",
   "language": "python",
   "name": "python3"
  },
  "language_info": {
   "codemirror_mode": {
    "name": "ipython",
    "version": 3
   },
   "file_extension": ".py",
   "mimetype": "text/x-python",
   "name": "python",
   "nbconvert_exporter": "python",
   "pygments_lexer": "ipython3",
   "version": "3.6.4"
  },
  "widgets": {
   "state": {},
   "version": "1.1.2"
  }
 },
 "nbformat": 4,
 "nbformat_minor": 2
}
