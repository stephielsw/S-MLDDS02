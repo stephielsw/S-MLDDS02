{
 "cells": [
  {
   "cell_type": "code",
   "execution_count": 5,
   "metadata": {},
   "outputs": [],
   "source": [
    "import csv"
   ]
  },
  {
   "cell_type": "code",
   "execution_count": 24,
   "metadata": {},
   "outputs": [],
   "source": [
    "reader = csv.DictReader(open('class-descriptions.csv', 'r'))"
   ]
  },
  {
   "cell_type": "code",
   "execution_count": 28,
   "metadata": {},
   "outputs": [],
   "source": [
    "reader = csv.reader(open('class-descriptions.csv', 'r'))"
   ]
  },
  {
   "cell_type": "code",
   "execution_count": 29,
   "metadata": {},
   "outputs": [],
   "source": [
    "dict_list = []"
   ]
  },
  {
   "cell_type": "code",
   "execution_count": 41,
   "metadata": {
    "scrolled": true
   },
   "outputs": [],
   "source": [
    "for line in reader:\n",
    "    dict_list.append(line)\n"
   ]
  },
  {
   "cell_type": "code",
   "execution_count": 81,
   "metadata": {},
   "outputs": [
    {
     "data": {
      "text/plain": [
       "[['/m/0100nhbf', \"Sprenger's tulip\"],\n",
       " ['/m/0104x9kv', 'Vinegret'],\n",
       " ['/m/0105jzwx', 'Dabu-dabu'],\n",
       " ['/m/0105ld7g', 'Pistachio ice cream'],\n",
       " ['/m/0105lxy5', 'Woku'],\n",
       " ['/m/0105n86x', 'Pastila'],\n",
       " ['/m/0105ts35', 'Burasa'],\n",
       " ['/m/0108_09c', 'Summer snowflake'],\n",
       " ['/m/01_097', 'Airmail'],\n",
       " ['/m/010dmf', 'Isle of man tt']]"
      ]
     },
     "execution_count": 81,
     "metadata": {},
     "output_type": "execute_result"
    }
   ],
   "source": [
    "dict_list[0:10]"
   ]
  },
  {
   "cell_type": "code",
   "execution_count": 82,
   "metadata": {},
   "outputs": [],
   "source": [
    "dict_list2 = []"
   ]
  },
  {
   "cell_type": "code",
   "execution_count": 83,
   "metadata": {},
   "outputs": [],
   "source": [
    "dict_1 = {}"
   ]
  },
  {
   "cell_type": "code",
   "execution_count": 84,
   "metadata": {},
   "outputs": [
    {
     "data": {
      "text/plain": [
       "'/m/0100nhbf'"
      ]
     },
     "execution_count": 84,
     "metadata": {},
     "output_type": "execute_result"
    }
   ],
   "source": [
    "dict_list[0][0]"
   ]
  },
  {
   "cell_type": "code",
   "execution_count": 88,
   "metadata": {},
   "outputs": [],
   "source": [
    "for i in range(0, len(dict_list)):\n",
    "    dict_1 = {}\n",
    "    dict_1['name'] = dict_list[i][0]\n",
    "    dict_1['id'] = i+1\n",
    "    dict_1['display_name'] = dict_list[i][1]\n",
    "    dict_list2.append(\"item \" + str(dict_1))\n"
   ]
  },
  {
   "cell_type": "code",
   "execution_count": 89,
   "metadata": {},
   "outputs": [
    {
     "data": {
      "text/plain": [
       "{'display_name': 'Helmet', 'id': 19995, 'name': '/m/0zvk5'}"
      ]
     },
     "execution_count": 89,
     "metadata": {},
     "output_type": "execute_result"
    }
   ],
   "source": [
    "dict_1"
   ]
  },
  {
   "cell_type": "code",
   "execution_count": 90,
   "metadata": {},
   "outputs": [
    {
     "data": {
      "text/plain": [
       "['item {\\'name\\': \\'/m/0100nhbf\\', \\'id\\': 1, \\'display_name\\': \"Sprenger\\'s tulip\"}',\n",
       " \"item {'name': '/m/0104x9kv', 'id': 2, 'display_name': 'Vinegret'}\",\n",
       " \"item {'name': '/m/0105jzwx', 'id': 3, 'display_name': 'Dabu-dabu'}\",\n",
       " \"item {'name': '/m/0105ld7g', 'id': 4, 'display_name': 'Pistachio ice cream'}\",\n",
       " \"item {'name': '/m/0105lxy5', 'id': 5, 'display_name': 'Woku'}\",\n",
       " \"item {'name': '/m/0105n86x', 'id': 6, 'display_name': 'Pastila'}\",\n",
       " \"item {'name': '/m/0105ts35', 'id': 7, 'display_name': 'Burasa'}\",\n",
       " \"item {'name': '/m/0108_09c', 'id': 8, 'display_name': 'Summer snowflake'}\",\n",
       " \"item {'name': '/m/01_097', 'id': 9, 'display_name': 'Airmail'}\",\n",
       " \"item {'name': '/m/010dmf', 'id': 10, 'display_name': 'Isle of man tt'}\"]"
      ]
     },
     "execution_count": 90,
     "metadata": {},
     "output_type": "execute_result"
    }
   ],
   "source": [
    "dict_list2[0:10]"
   ]
  },
  {
   "cell_type": "code",
   "execution_count": 91,
   "metadata": {},
   "outputs": [],
   "source": [
    "thefile = open('openimage_label_map.pbtxt', 'w')\n",
    "for item in dict_list2:\n",
    "    thefile.write(\"%s\\n\" % item)"
   ]
  },
  {
   "cell_type": "code",
   "execution_count": null,
   "metadata": {},
   "outputs": [],
   "source": []
  }
 ],
 "metadata": {
  "kernelspec": {
   "display_name": "Python 3",
   "language": "python",
   "name": "python3"
  },
  "language_info": {
   "codemirror_mode": {
    "name": "ipython",
    "version": 3
   },
   "file_extension": ".py",
   "mimetype": "text/x-python",
   "name": "python",
   "nbconvert_exporter": "python",
   "pygments_lexer": "ipython3",
   "version": "3.6.4"
  }
 },
 "nbformat": 4,
 "nbformat_minor": 2
}
