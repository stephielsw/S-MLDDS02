{
 "cells": [
  {
   "cell_type": "markdown",
   "metadata": {},
   "source": [
    "### 9:00 - 10:00 AM\n",
    "### Please finish the activity from Friday (Day-13)\n",
    "<br/><br/><br/><br/><br/>"
   ]
  },
  {
   "cell_type": "markdown",
   "metadata": {},
   "source": [
    "### SVM\n",
    "- also known as maximum margin classification"
   ]
  },
  {
   "cell_type": "code",
   "execution_count": null,
   "metadata": {
    "collapsed": true
   },
   "outputs": [],
   "source": [
    "import numpy as np\n",
    "import pandas as pd\n",
    "import matplotlib.pyplot as plt"
   ]
  },
  {
   "cell_type": "code",
   "execution_count": null,
   "metadata": {
    "collapsed": true
   },
   "outputs": [],
   "source": [
    "#Get the dataset from sklearn\n",
    "from sklearn import datasets"
   ]
  },
  {
   "cell_type": "code",
   "execution_count": null,
   "metadata": {
    "collapsed": true
   },
   "outputs": [],
   "source": [
    "X, y = datasets.make_blobs(n_samples=1000, centers=2, n_features=2,random_state=1, cluster_std=1)"
   ]
  },
  {
   "cell_type": "code",
   "execution_count": null,
   "metadata": {},
   "outputs": [],
   "source": [
    "#visualize the data using plotly\n",
    "import plotly as py\n",
    "from plotly.graph_objs import *\n",
    "\n",
    "py.offline.init_notebook_mode()\n",
    "\n",
    "trace = [Scatter(x=X[:, 0],\n",
    "                   y=X[:, 1],\n",
    "                   mode='markers',\n",
    "                   marker=dict(color=y,\n",
    "                               size=10,\n",
    "                               showscale=False))]\n",
    "py.offline.iplot(trace)"
   ]
  },
  {
   "cell_type": "markdown",
   "metadata": {},
   "source": [
    " - rather than simply drawing a zero-width line between the classes, we can draw around each line a margin of some width, up to the nearest point\n",
    " \n",
    "VanderPlas, Jake. Python Data Science Handbook: Essential Tools for Working with Data "
   ]
  },
  {
   "cell_type": "code",
   "execution_count": null,
   "metadata": {
    "collapsed": true
   },
   "outputs": [],
   "source": [
    "from sklearn.svm import SVC"
   ]
  },
  {
   "cell_type": "code",
   "execution_count": null,
   "metadata": {
    "collapsed": true
   },
   "outputs": [],
   "source": [
    "my_svc_model = SVC(kernel='linear', C=1E10)"
   ]
  },
  {
   "cell_type": "code",
   "execution_count": null,
   "metadata": {
    "collapsed": true
   },
   "outputs": [],
   "source": [
    "# fit\n",
    "my_svc_model.fit(X, y)"
   ]
  },
  {
   "cell_type": "code",
   "execution_count": null,
   "metadata": {
    "collapsed": true
   },
   "outputs": [],
   "source": [
    "#from Python Data Science Handbook: Essential Tools for Working with Data\n",
    "import seaborn as sns; sns.set() \n",
    "def plot_svc_decision_function(model, ax = None, plot_support = True):\n",
    "    \"\"\" Plot the decision function for a two-dimensional SVC\"\"\" \n",
    "    if ax is None: \n",
    "        ax = plt.gca() \n",
    "        xlim = ax.get_xlim() \n",
    "        ylim = ax.get_ylim() # create grid to evaluate model \n",
    "        x = np.linspace( xlim[ 0], xlim[ 1], 30) \n",
    "        y = np.linspace( ylim[ 0], ylim[ 1], 30) \n",
    "        Y, X = np.meshgrid( y, x)\n",
    "        xy = np.vstack([ X.ravel(), Y.ravel()]).T \n",
    "        P = model.decision_function(xy).reshape(X.shape) \n",
    "        # plot decision boundary and margins \n",
    "        ax.contour( X, Y, P, colors ='k', levels =[-1, 0, 1], alpha = 0.5, linestyles =['--', '-', '--']) \n",
    "        # plot support vectors if plot_support: \n",
    "        ax.scatter( model.support_vectors_[:, 0], model.support_vectors_[:, 1], s = 300, linewidth = 1, facecolors ='none'); \n",
    "        ax.set_xlim(xlim) \n",
    "        ax.set_ylim(ylim)"
   ]
  },
  {
   "cell_type": "code",
   "execution_count": null,
   "metadata": {
    "collapsed": true
   },
   "outputs": [],
   "source": [
    "plt.scatter(X[:, 0], X[:, 1], c = y, s = 50, cmap ='autumn') \n",
    "plot_svc_decision_function( my_svc_model)\n",
    "plt.show()"
   ]
  },
  {
   "cell_type": "code",
   "execution_count": null,
   "metadata": {
    "collapsed": true
   },
   "outputs": [],
   "source": [
    "# create a train test split\n",
    "from sklearn.cross_validation import train_test_split\n",
    "\n",
    "x_train, x_test, y_train, y_test  = train_test_split(X, y,test_size=0.5 )"
   ]
  },
  {
   "cell_type": "code",
   "execution_count": null,
   "metadata": {
    "collapsed": true
   },
   "outputs": [],
   "source": [
    "# svm is sensitive to scales\n",
    "# standardise your data\n",
    "# get the StandardScaler from preprocessing module of sklearn\n",
    "from sklearn.preprocessing import StandardScaler"
   ]
  },
  {
   "cell_type": "code",
   "execution_count": null,
   "metadata": {
    "collapsed": true
   },
   "outputs": [],
   "source": [
    "# create an instance of StandardScaler\n",
    "scale = StandardScaler()"
   ]
  },
  {
   "cell_type": "code",
   "execution_count": null,
   "metadata": {
    "collapsed": true
   },
   "outputs": [],
   "source": [
    "# fit the data to scale\n",
    "std_scale = scale.fit(x_train)\n",
    "\n",
    "# transform train and test\n",
    "x_train_std = std_scale.transform(x_train)\n",
    "x_test_std = std_scale.transform(x_test)"
   ]
  },
  {
   "cell_type": "code",
   "execution_count": null,
   "metadata": {
    "collapsed": true
   },
   "outputs": [],
   "source": [
    "my_svc_model1 = SVC(kernel='linear', C=1E10)\n",
    "# If your SVM model is overfitting, you can try regularizing it by reducing C, default value is C=1 "
   ]
  },
  {
   "cell_type": "markdown",
   "metadata": {},
   "source": [
    "note: for large datasets (more than 10k) SVC(kernel='linear', C=1E10, loss='hinge') is slow so you can use: <br/><br/>\n",
    "\n",
    "from sklearn.svm import LinearSVC <br/>\n",
    "LinearSVC( C = 1, loss =\" hinge\")) <br/>\n",
    "http://scikit-learn.org/stable/modules/generated/sklearn.svm.LinearSVC.html"
   ]
  },
  {
   "cell_type": "code",
   "execution_count": null,
   "metadata": {
    "collapsed": true
   },
   "outputs": [],
   "source": [
    "# fit\n",
    "my_svc_model1.fit(x_train_std, y_train)"
   ]
  },
  {
   "cell_type": "code",
   "execution_count": null,
   "metadata": {
    "collapsed": true
   },
   "outputs": [],
   "source": [
    "plt.scatter(x_train_std[:, 0], x_train_std[:, 1], c = y_train, s = 50, cmap ='autumn') \n",
    "plot_svc_decision_function(my_svc_model1)\n",
    "plt.show()"
   ]
  },
  {
   "cell_type": "markdown",
   "metadata": {},
   "source": [
    "### References:\n",
    "    1. Raschka, Sebastian. Python Machine Learning.\n",
    "    2. VanderPlas, Jake. Python Data Science Handbook: Essential Tools for Working with Data. O'Reilly Media. "
   ]
  },
  {
   "cell_type": "markdown",
   "metadata": {
    "collapsed": true
   },
   "source": [
    "### Activity\n",
    "- by now we have already applied three models (logistic, Decision tree and Random Forests) on adult.csv data. Let's add svm to our study. \n",
    "- apply svm on the prepared adult.csv data alognwith the other algorithms learned\n",
    "- report the accuracy for each of the below algorithms on slack channel. "
   ]
  },
  {
   "cell_type": "markdown",
   "metadata": {},
   "source": [
    "#### SVM\n",
    "- A low C makes the decision surface smooth, while a high C aims at classifying all training examples correctly by giving the model freedom to select more samples as support vectors\n",
    "- http://scikit-learn.org/stable/auto_examples/svm/plot_rbf_parameters.html"
   ]
  },
  {
   "cell_type": "code",
   "execution_count": null,
   "metadata": {
    "collapsed": true
   },
   "outputs": [],
   "source": []
  },
  {
   "cell_type": "markdown",
   "metadata": {},
   "source": [
    "#### Logistic Regression"
   ]
  },
  {
   "cell_type": "code",
   "execution_count": null,
   "metadata": {
    "collapsed": true
   },
   "outputs": [],
   "source": []
  },
  {
   "cell_type": "markdown",
   "metadata": {},
   "source": [
    "#### Decision Tree"
   ]
  },
  {
   "cell_type": "code",
   "execution_count": null,
   "metadata": {
    "collapsed": true
   },
   "outputs": [],
   "source": []
  },
  {
   "cell_type": "markdown",
   "metadata": {},
   "source": [
    "#### Random Forest"
   ]
  },
  {
   "cell_type": "code",
   "execution_count": null,
   "metadata": {
    "collapsed": true
   },
   "outputs": [],
   "source": []
  },
  {
   "cell_type": "markdown",
   "metadata": {},
   "source": [
    "#### SGDClassifier\n",
    "- Stochastic Gradient Descent  \n",
    "http://scikit-learn.org/stable/modules/sgd.html"
   ]
  },
  {
   "cell_type": "code",
   "execution_count": null,
   "metadata": {
    "collapsed": true
   },
   "outputs": [],
   "source": []
  },
  {
   "cell_type": "markdown",
   "metadata": {},
   "source": [
    "#### Gradient Boosting \n",
    " - try gradient boosting algorithm to improve the accuracy\n",
    " - from sklearn.ensemble import GradientBoostingClassifier as GBC"
   ]
  },
  {
   "cell_type": "code",
   "execution_count": null,
   "metadata": {
    "collapsed": true
   },
   "outputs": [],
   "source": []
  }
 ],
 "metadata": {
  "kernelspec": {
   "display_name": "Python 2",
   "language": "python",
   "name": "python2"
  },
  "language_info": {
   "codemirror_mode": {
    "name": "ipython",
    "version": 2
   },
   "file_extension": ".py",
   "mimetype": "text/x-python",
   "name": "python",
   "nbconvert_exporter": "python",
   "pygments_lexer": "ipython2",
   "version": "2.7.14"
  }
 },
 "nbformat": 4,
 "nbformat_minor": 2
}
